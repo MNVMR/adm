{
 "cells": [
  {
   "cell_type": "markdown",
   "metadata": {},
   "source": [
    "# 2019 ADM Laboratory"
   ]
  },
  {
   "cell_type": "markdown",
   "metadata": {},
   "source": [
    "1. Introduction to Python, Pandas, Datasets\n",
    "2. Visualization\n",
    "3. Document Databases, JSON, Mongo\n",
    "4. Web Scrapping, BeautifulSoup\n",
    "5. Data Exchange, REST API, Social Networks, Twitter\n",
    "6. Amazon Web Services\n",
    "7. Amazon Web Services: MapReduce Paradigm\n",
    "8. PageRank in MapReduce\n",
    "9. Clustering, SKLearn\n",
    "10. Python Pipeline"
   ]
  },
  {
   "cell_type": "markdown",
   "metadata": {},
   "source": [
    "## Virtual Machine\n",
    "\n",
    "    VirtualBox\n",
    "    XUbuntu 18.04\n",
    "    Python 3\n",
    "    Jupyter/iPython notebook\n",
    "    IntelliJ pyCharm\n",
    "    Pandas, BeautifulSoup, Scilearnkit, networkx, pymongo, pyspark and matplotlib\n",
    "    MongoDB\n",
    "    Apache Spark with Hadoop"
   ]
  },
  {
   "cell_type": "markdown",
   "metadata": {},
   "source": [
    "## Online Services\n",
    "    mLab\n",
    "    Amazon Web Services"
   ]
  },
  {
   "cell_type": "markdown",
   "metadata": {},
   "source": [
    "# Part 1 - Python Basic & Compound Data Types"
   ]
  },
  {
   "cell_type": "markdown",
   "metadata": {},
   "source": [
    "Python supports decimals (called integers) of any length, and reals (called floats) that support up to 15 decimal places."
   ]
  },
  {
   "cell_type": "code",
   "execution_count": 1,
   "metadata": {},
   "outputs": [
    {
     "data": {
      "text/plain": [
       "int"
      ]
     },
     "execution_count": 1,
     "metadata": {},
     "output_type": "execute_result"
    }
   ],
   "source": [
    "number = 42\n",
    "type(number)"
   ]
  },
  {
   "cell_type": "markdown",
   "metadata": {},
   "source": [
    "In Jupyter we can mix python code, like the cell above. Notice the label \"In [number]\" and the corresponding \"Out [number]\". The number represents the order of execution of the specific piece of code.\n",
    "\n",
    "Within a code block we can query for the value of a variable, like the cell below.\n",
    "\n",
    "We can also mix comments and text, in cells called \"Markedown\", like this one."
   ]
  },
  {
   "cell_type": "code",
   "execution_count": 2,
   "metadata": {},
   "outputs": [
    {
     "data": {
      "text/plain": [
       "42"
      ]
     },
     "execution_count": 2,
     "metadata": {},
     "output_type": "execute_result"
    }
   ],
   "source": [
    "number"
   ]
  },
  {
   "cell_type": "code",
   "execution_count": 3,
   "metadata": {},
   "outputs": [
    {
     "name": "stdout",
     "output_type": "stream",
     "text": [
      "3.141592653589793\n"
     ]
    }
   ],
   "source": [
    "decimal = 3.14159265358979323846264338327950288419716939937510\n",
    "type(decimal)\n",
    "print(decimal)"
   ]
  },
  {
   "cell_type": "markdown",
   "metadata": {},
   "source": [
    "Store is stored is called a 'string' variable."
   ]
  },
  {
   "cell_type": "code",
   "execution_count": 4,
   "metadata": {},
   "outputs": [],
   "source": [
    "text = 'This is my text'\n",
    "another = \"We can also use double-quotes\"\n",
    "mix = \"Mix is 'simple'\""
   ]
  },
  {
   "cell_type": "code",
   "execution_count": 5,
   "metadata": {},
   "outputs": [
    {
     "name": "stdout",
     "output_type": "stream",
     "text": [
      "This is my text\n",
      "We can also use double-quotes\n",
      "Mix is 'simple'\n"
     ]
    }
   ],
   "source": [
    "print(text)\n",
    "print(another)\n",
    "print(mix)"
   ]
  },
  {
   "cell_type": "code",
   "execution_count": 6,
   "metadata": {},
   "outputs": [
    {
     "data": {
      "text/plain": [
       "\"Mix is 'simple'\""
      ]
     },
     "execution_count": 6,
     "metadata": {},
     "output_type": "execute_result"
    }
   ],
   "source": [
    "mix"
   ]
  },
  {
   "cell_type": "code",
   "execution_count": 7,
   "metadata": {},
   "outputs": [
    {
     "data": {
      "text/plain": [
       "'This is my text'"
      ]
     },
     "execution_count": 7,
     "metadata": {},
     "output_type": "execute_result"
    }
   ],
   "source": [
    "text"
   ]
  },
  {
   "cell_type": "markdown",
   "metadata": {},
   "source": [
    "The slicing operator [ ] can be used with string."
   ]
  },
  {
   "cell_type": "code",
   "execution_count": 8,
   "metadata": {},
   "outputs": [
    {
     "data": {
      "text/plain": [
       "'is'"
      ]
     },
     "execution_count": 8,
     "metadata": {},
     "output_type": "execute_result"
    }
   ],
   "source": [
    "text[2:4]"
   ]
  },
  {
   "cell_type": "code",
   "execution_count": 9,
   "metadata": {},
   "outputs": [
    {
     "data": {
      "text/plain": [
       "'This is my'"
      ]
     },
     "execution_count": 9,
     "metadata": {},
     "output_type": "execute_result"
    }
   ],
   "source": [
    "text[:-5]"
   ]
  },
  {
   "cell_type": "code",
   "execution_count": 10,
   "metadata": {},
   "outputs": [
    {
     "data": {
      "text/plain": [
       "'is my text'"
      ]
     },
     "execution_count": 10,
     "metadata": {},
     "output_type": "execute_result"
    }
   ],
   "source": [
    "text[5:]"
   ]
  },
  {
   "cell_type": "code",
   "execution_count": 11,
   "metadata": {},
   "outputs": [
    {
     "data": {
      "text/plain": [
       "'i'"
      ]
     },
     "execution_count": 11,
     "metadata": {},
     "output_type": "execute_result"
    }
   ],
   "source": [
    "text[5]"
   ]
  },
  {
   "cell_type": "markdown",
   "metadata": {},
   "source": [
    "Notice the different formating of the contents of the variable when we use the __print__ command and when using the jupyter environment to query for the value.\n",
    "\n",
    "Python support compound data types such as tupples, lists, sets and dictionaries.\n",
    "\n",
    "### Tuples \n",
    "\n",
    "A tuple is a collection which is ordered and unchangeable."
   ]
  },
  {
   "cell_type": "code",
   "execution_count": 12,
   "metadata": {},
   "outputs": [
    {
     "data": {
      "text/plain": [
       "tuple"
      ]
     },
     "execution_count": 12,
     "metadata": {},
     "output_type": "execute_result"
    }
   ],
   "source": [
    "thistuple = (42, \"kiwi\", 14.911)\n",
    "type(thistuple)"
   ]
  },
  {
   "cell_type": "code",
   "execution_count": 13,
   "metadata": {},
   "outputs": [
    {
     "data": {
      "text/plain": [
       "(42, 'kiwi', 14.911)"
      ]
     },
     "execution_count": 13,
     "metadata": {},
     "output_type": "execute_result"
    }
   ],
   "source": [
    "thistuple"
   ]
  },
  {
   "cell_type": "markdown",
   "metadata": {},
   "source": [
    "We can access element **i** of the tuple using the [**i**]. The first element's index is 0, that is, i=0."
   ]
  },
  {
   "cell_type": "code",
   "execution_count": 14,
   "metadata": {},
   "outputs": [
    {
     "data": {
      "text/plain": [
       "42"
      ]
     },
     "execution_count": 14,
     "metadata": {},
     "output_type": "execute_result"
    }
   ],
   "source": [
    "thistuple[0]"
   ]
  },
  {
   "cell_type": "code",
   "execution_count": 15,
   "metadata": {},
   "outputs": [
    {
     "name": "stdout",
     "output_type": "stream",
     "text": [
      "14.911 kiwi\n"
     ]
    }
   ],
   "source": [
    "print(thistuple[2], thistuple[1])"
   ]
  },
  {
   "cell_type": "code",
   "execution_count": 16,
   "metadata": {},
   "outputs": [
    {
     "ename": "IndexError",
     "evalue": "tuple index out of range",
     "output_type": "error",
     "traceback": [
      "\u001b[0;31m---------------------------------------------------------------------------\u001b[0m",
      "\u001b[0;31mIndexError\u001b[0m                                Traceback (most recent call last)",
      "\u001b[0;32m<ipython-input-16-1a99a858315c>\u001b[0m in \u001b[0;36m<module>\u001b[0;34m()\u001b[0m\n\u001b[0;32m----> 1\u001b[0;31m \u001b[0mthistuple\u001b[0m\u001b[0;34m[\u001b[0m\u001b[0;36m3\u001b[0m\u001b[0;34m]\u001b[0m\u001b[0;34m\u001b[0m\u001b[0;34m\u001b[0m\u001b[0m\n\u001b[0m",
      "\u001b[0;31mIndexError\u001b[0m: tuple index out of range"
     ]
    }
   ],
   "source": [
    "thistuple[3]"
   ]
  },
  {
   "cell_type": "code",
   "execution_count": 17,
   "metadata": {},
   "outputs": [
    {
     "ename": "TypeError",
     "evalue": "'tuple' object does not support item assignment",
     "output_type": "error",
     "traceback": [
      "\u001b[0;31m---------------------------------------------------------------------------\u001b[0m",
      "\u001b[0;31mTypeError\u001b[0m                                 Traceback (most recent call last)",
      "\u001b[0;32m<ipython-input-17-31d403491b78>\u001b[0m in \u001b[0;36m<module>\u001b[0;34m()\u001b[0m\n\u001b[0;32m----> 1\u001b[0;31m \u001b[0mthistuple\u001b[0m\u001b[0;34m[\u001b[0m\u001b[0;36m0\u001b[0m\u001b[0;34m]\u001b[0m \u001b[0;34m=\u001b[0m \u001b[0;36m9.871\u001b[0m\u001b[0;34m\u001b[0m\u001b[0;34m\u001b[0m\u001b[0m\n\u001b[0m",
      "\u001b[0;31mTypeError\u001b[0m: 'tuple' object does not support item assignment"
     ]
    }
   ],
   "source": [
    "thistuple[0] = 9.871"
   ]
  },
  {
   "cell_type": "code",
   "execution_count": 18,
   "metadata": {},
   "outputs": [],
   "source": [
    "thistuple = (11, 'carrot', 9.871)"
   ]
  },
  {
   "cell_type": "code",
   "execution_count": 19,
   "metadata": {},
   "outputs": [
    {
     "data": {
      "text/plain": [
       "(11, 'carrot', 9.871)"
      ]
     },
     "execution_count": 19,
     "metadata": {},
     "output_type": "execute_result"
    }
   ],
   "source": [
    "thistuple"
   ]
  },
  {
   "cell_type": "markdown",
   "metadata": {},
   "source": [
    "### Lists\n",
    "\n",
    "Python provides List to store sequences of values Lists in python are dynamic: **They grow/shrink on demand**.\n",
    "Lists are mutable: **Values can change on demand** and also **Data type of individual items can change**."
   ]
  },
  {
   "cell_type": "code",
   "execution_count": 20,
   "metadata": {},
   "outputs": [
    {
     "name": "stdout",
     "output_type": "stream",
     "text": [
      "[1, 5, 15, 7]\n"
     ]
    }
   ],
   "source": [
    "lst = [1,5,15,7]\n",
    "print(lst)"
   ]
  },
  {
   "cell_type": "code",
   "execution_count": 21,
   "metadata": {},
   "outputs": [
    {
     "data": {
      "text/plain": [
       "[1, 5, 22, 7]"
      ]
     },
     "execution_count": 21,
     "metadata": {},
     "output_type": "execute_result"
    }
   ],
   "source": [
    "lst[2] = 22\n",
    "lst"
   ]
  },
  {
   "cell_type": "code",
   "execution_count": 22,
   "metadata": {},
   "outputs": [
    {
     "data": {
      "text/plain": [
       "[1, 'Hello', 22, 7]"
      ]
     },
     "execution_count": 22,
     "metadata": {},
     "output_type": "execute_result"
    }
   ],
   "source": [
    "lst[1] = 'Hello'\n",
    "lst"
   ]
  },
  {
   "cell_type": "code",
   "execution_count": 23,
   "metadata": {},
   "outputs": [
    {
     "ename": "IndexError",
     "evalue": "list assignment index out of range",
     "output_type": "error",
     "traceback": [
      "\u001b[0;31m---------------------------------------------------------------------------\u001b[0m",
      "\u001b[0;31mIndexError\u001b[0m                                Traceback (most recent call last)",
      "\u001b[0;32m<ipython-input-23-e10e499d7671>\u001b[0m in \u001b[0;36m<module>\u001b[0;34m()\u001b[0m\n\u001b[0;32m----> 1\u001b[0;31m \u001b[0mlst\u001b[0m\u001b[0;34m[\u001b[0m\u001b[0;36m4\u001b[0m\u001b[0;34m]\u001b[0m \u001b[0;34m=\u001b[0m \u001b[0;36m33\u001b[0m\u001b[0;34m\u001b[0m\u001b[0;34m\u001b[0m\u001b[0m\n\u001b[0m",
      "\u001b[0;31mIndexError\u001b[0m: list assignment index out of range"
     ]
    }
   ],
   "source": [
    "lst[4] = 33"
   ]
  },
  {
   "cell_type": "code",
   "execution_count": 24,
   "metadata": {},
   "outputs": [],
   "source": [
    "lst.append(33)"
   ]
  },
  {
   "cell_type": "code",
   "execution_count": 25,
   "metadata": {},
   "outputs": [
    {
     "data": {
      "text/plain": [
       "[1, 'Hello', 22, 7, 33]"
      ]
     },
     "execution_count": 25,
     "metadata": {},
     "output_type": "execute_result"
    }
   ],
   "source": [
    "lst"
   ]
  },
  {
   "cell_type": "markdown",
   "metadata": {},
   "source": [
    "Lists operations enable repetition, concatenation, slicing, iteration, checking for membership, ..."
   ]
  },
  {
   "cell_type": "code",
   "execution_count": 26,
   "metadata": {},
   "outputs": [
    {
     "data": {
      "text/plain": [
       "[1, 'Hello', 22, 7, 33, 1, 'Hello', 22, 7, 33]"
      ]
     },
     "execution_count": 26,
     "metadata": {},
     "output_type": "execute_result"
    }
   ],
   "source": [
    "lst * 2"
   ]
  },
  {
   "cell_type": "code",
   "execution_count": 27,
   "metadata": {},
   "outputs": [
    {
     "data": {
      "text/plain": [
       "[1, 'Hello', 22, 7, 33, 55, 'kiwi']"
      ]
     },
     "execution_count": 27,
     "metadata": {},
     "output_type": "execute_result"
    }
   ],
   "source": [
    "lst + [55, \"kiwi\"]"
   ]
  },
  {
   "cell_type": "code",
   "execution_count": 28,
   "metadata": {},
   "outputs": [
    {
     "data": {
      "text/plain": [
       "[1, 'Hello', 22, 7, 33]"
      ]
     },
     "execution_count": 28,
     "metadata": {},
     "output_type": "execute_result"
    }
   ],
   "source": [
    "lst"
   ]
  },
  {
   "cell_type": "markdown",
   "metadata": {},
   "source": [
    "New lists can be created from manipulating existing ones"
   ]
  },
  {
   "cell_type": "code",
   "execution_count": 29,
   "metadata": {},
   "outputs": [],
   "source": [
    "newlst = lst * 2"
   ]
  },
  {
   "cell_type": "code",
   "execution_count": 30,
   "metadata": {},
   "outputs": [
    {
     "data": {
      "text/plain": [
       "[1, 'Hello', 22, 7, 33, 1, 'Hello', 22, 7, 33]"
      ]
     },
     "execution_count": 30,
     "metadata": {},
     "output_type": "execute_result"
    }
   ],
   "source": [
    "newlst"
   ]
  },
  {
   "cell_type": "code",
   "execution_count": 31,
   "metadata": {},
   "outputs": [
    {
     "data": {
      "text/plain": [
       "10"
      ]
     },
     "execution_count": 31,
     "metadata": {},
     "output_type": "execute_result"
    }
   ],
   "source": [
    "len(newlst)"
   ]
  },
  {
   "cell_type": "code",
   "execution_count": 32,
   "metadata": {},
   "outputs": [
    {
     "data": {
      "text/plain": [
       "['Hello', 22, 7]"
      ]
     },
     "execution_count": 32,
     "metadata": {},
     "output_type": "execute_result"
    }
   ],
   "source": [
    "newlst[1:4]"
   ]
  },
  {
   "cell_type": "code",
   "execution_count": 33,
   "metadata": {},
   "outputs": [
    {
     "data": {
      "text/plain": [
       "[1, 'Hello', 22, 7]"
      ]
     },
     "execution_count": 33,
     "metadata": {},
     "output_type": "execute_result"
    }
   ],
   "source": [
    "newlst[:4]"
   ]
  },
  {
   "cell_type": "code",
   "execution_count": 34,
   "metadata": {},
   "outputs": [
    {
     "data": {
      "text/plain": [
       "[1, 'Hello', 22, 7, 33, 1, 'Hello', 22]"
      ]
     },
     "execution_count": 34,
     "metadata": {},
     "output_type": "execute_result"
    }
   ],
   "source": [
    "newlst[:-2]"
   ]
  },
  {
   "cell_type": "code",
   "execution_count": 35,
   "metadata": {},
   "outputs": [
    {
     "data": {
      "text/plain": [
       "[22, 7, 33, 1, 'Hello', 22, 7, 33]"
      ]
     },
     "execution_count": 35,
     "metadata": {},
     "output_type": "execute_result"
    }
   ],
   "source": [
    "newlst[2:]"
   ]
  },
  {
   "cell_type": "code",
   "execution_count": 36,
   "metadata": {},
   "outputs": [
    {
     "data": {
      "text/plain": [
       "True"
      ]
     },
     "execution_count": 36,
     "metadata": {},
     "output_type": "execute_result"
    }
   ],
   "source": [
    "33 in newlst"
   ]
  },
  {
   "cell_type": "code",
   "execution_count": 37,
   "metadata": {},
   "outputs": [
    {
     "data": {
      "text/plain": [
       "False"
      ]
     },
     "execution_count": 37,
     "metadata": {},
     "output_type": "execute_result"
    }
   ],
   "source": [
    "44 in newlst"
   ]
  },
  {
   "cell_type": "code",
   "execution_count": 38,
   "metadata": {},
   "outputs": [
    {
     "data": {
      "text/plain": [
       "2"
      ]
     },
     "execution_count": 38,
     "metadata": {},
     "output_type": "execute_result"
    }
   ],
   "source": [
    "newlst.count(33)"
   ]
  },
  {
   "cell_type": "code",
   "execution_count": 39,
   "metadata": {},
   "outputs": [
    {
     "name": "stdout",
     "output_type": "stream",
     "text": [
      "1\n",
      "Hello\n",
      "22\n",
      "7\n",
      "33\n"
     ]
    }
   ],
   "source": [
    "for value in lst: \n",
    "    print(value)"
   ]
  },
  {
   "cell_type": "markdown",
   "metadata": {},
   "source": [
    "Some other operators make changes on the list itself"
   ]
  },
  {
   "cell_type": "code",
   "execution_count": 40,
   "metadata": {},
   "outputs": [],
   "source": [
    "values = [5, 1, 88, 3]"
   ]
  },
  {
   "cell_type": "code",
   "execution_count": 41,
   "metadata": {},
   "outputs": [
    {
     "data": {
      "text/plain": [
       "[5, 1, 88, 3]"
      ]
     },
     "execution_count": 41,
     "metadata": {},
     "output_type": "execute_result"
    }
   ],
   "source": [
    "values"
   ]
  },
  {
   "cell_type": "code",
   "execution_count": 42,
   "metadata": {},
   "outputs": [],
   "source": [
    "values.reverse()"
   ]
  },
  {
   "cell_type": "code",
   "execution_count": 43,
   "metadata": {},
   "outputs": [
    {
     "data": {
      "text/plain": [
       "[3, 88, 1, 5]"
      ]
     },
     "execution_count": 43,
     "metadata": {},
     "output_type": "execute_result"
    }
   ],
   "source": [
    "values"
   ]
  },
  {
   "cell_type": "code",
   "execution_count": 44,
   "metadata": {},
   "outputs": [],
   "source": [
    "values.sort()"
   ]
  },
  {
   "cell_type": "code",
   "execution_count": 45,
   "metadata": {},
   "outputs": [
    {
     "data": {
      "text/plain": [
       "[1, 3, 5, 88]"
      ]
     },
     "execution_count": 45,
     "metadata": {},
     "output_type": "execute_result"
    }
   ],
   "source": [
    "values"
   ]
  },
  {
   "cell_type": "code",
   "execution_count": 46,
   "metadata": {},
   "outputs": [],
   "source": [
    "values.insert(2, 101) # Insert 101 into list at index 2, that is at the 3rd position."
   ]
  },
  {
   "cell_type": "code",
   "execution_count": 47,
   "metadata": {},
   "outputs": [
    {
     "data": {
      "text/plain": [
       "[1, 3, 101, 5, 88]"
      ]
     },
     "execution_count": 47,
     "metadata": {},
     "output_type": "execute_result"
    }
   ],
   "source": [
    "values"
   ]
  },
  {
   "cell_type": "code",
   "execution_count": 48,
   "metadata": {},
   "outputs": [
    {
     "data": {
      "text/plain": [
       "101"
      ]
     },
     "execution_count": 48,
     "metadata": {},
     "output_type": "execute_result"
    }
   ],
   "source": [
    "values.pop(2) # Deletes the ith element of the list and returns its value."
   ]
  },
  {
   "cell_type": "code",
   "execution_count": 49,
   "metadata": {},
   "outputs": [
    {
     "data": {
      "text/plain": [
       "[1, 3, 5, 88]"
      ]
     },
     "execution_count": 49,
     "metadata": {},
     "output_type": "execute_result"
    }
   ],
   "source": [
    "values"
   ]
  },
  {
   "cell_type": "code",
   "execution_count": 50,
   "metadata": {},
   "outputs": [
    {
     "data": {
      "text/plain": [
       "4"
      ]
     },
     "execution_count": 50,
     "metadata": {},
     "output_type": "execute_result"
    }
   ],
   "source": [
    "newlst.index(33) # Returns index of first occurrence of 33."
   ]
  },
  {
   "cell_type": "code",
   "execution_count": 51,
   "metadata": {},
   "outputs": [
    {
     "ename": "ValueError",
     "evalue": "88 is not in list",
     "output_type": "error",
     "traceback": [
      "\u001b[0;31m---------------------------------------------------------------------------\u001b[0m",
      "\u001b[0;31mValueError\u001b[0m                                Traceback (most recent call last)",
      "\u001b[0;32m<ipython-input-51-d942cf2b5ebd>\u001b[0m in \u001b[0;36m<module>\u001b[0;34m()\u001b[0m\n\u001b[0;32m----> 1\u001b[0;31m \u001b[0mnewlst\u001b[0m\u001b[0;34m.\u001b[0m\u001b[0mindex\u001b[0m\u001b[0;34m(\u001b[0m\u001b[0;36m88\u001b[0m\u001b[0;34m)\u001b[0m\u001b[0;34m\u001b[0m\u001b[0;34m\u001b[0m\u001b[0m\n\u001b[0m",
      "\u001b[0;31mValueError\u001b[0m: 88 is not in list"
     ]
    }
   ],
   "source": [
    "newlst.index(88)"
   ]
  },
  {
   "cell_type": "code",
   "execution_count": 52,
   "metadata": {},
   "outputs": [],
   "source": [
    "newlst.remove(33) # Deletes the first occurrence of 33 in list."
   ]
  },
  {
   "cell_type": "code",
   "execution_count": 53,
   "metadata": {},
   "outputs": [
    {
     "data": {
      "text/plain": [
       "[1, 'Hello', 22, 7, 1, 'Hello', 22, 7, 33]"
      ]
     },
     "execution_count": 53,
     "metadata": {},
     "output_type": "execute_result"
    }
   ],
   "source": [
    "newlst"
   ]
  },
  {
   "cell_type": "code",
   "execution_count": 54,
   "metadata": {},
   "outputs": [
    {
     "data": {
      "text/plain": [
       "8"
      ]
     },
     "execution_count": 54,
     "metadata": {},
     "output_type": "execute_result"
    }
   ],
   "source": [
    "newlst.index(33)"
   ]
  },
  {
   "cell_type": "markdown",
   "metadata": {},
   "source": [
    "Lists can contain tuples."
   ]
  },
  {
   "cell_type": "code",
   "execution_count": 55,
   "metadata": {},
   "outputs": [],
   "source": [
    "data = [(\"julius\", 3),\n",
    "(\"maria\", 2), \n",
    "(\"alice\", 4),\n",
    "(\"maria\", 1)]"
   ]
  },
  {
   "cell_type": "code",
   "execution_count": 56,
   "metadata": {},
   "outputs": [
    {
     "data": {
      "text/plain": [
       "[('julius', 3), ('maria', 2), ('alice', 4), ('maria', 1)]"
      ]
     },
     "execution_count": 56,
     "metadata": {},
     "output_type": "execute_result"
    }
   ],
   "source": [
    "data"
   ]
  },
  {
   "cell_type": "code",
   "execution_count": 57,
   "metadata": {},
   "outputs": [
    {
     "name": "stdout",
     "output_type": "stream",
     "text": [
      "I met julius 3 times\n",
      "I met maria 2 times\n",
      "I met alice 4 times\n",
      "I met maria 1 times\n"
     ]
    }
   ],
   "source": [
    "for (n, a) in data:\n",
    "    print(\"I met %s %s times\" % (n, a) )"
   ]
  },
  {
   "cell_type": "code",
   "execution_count": 58,
   "metadata": {},
   "outputs": [
    {
     "name": "stdout",
     "output_type": "stream",
     "text": [
      "I met julius 3 times\n",
      "I met maria 2 times\n",
      "I met alice 4 times\n",
      "I met maria 1 times\n"
     ]
    }
   ],
   "source": [
    "for x in data:\n",
    "    print(\"I met %s %s times\" % (x[0], x[1]) )"
   ]
  },
  {
   "cell_type": "code",
   "execution_count": 59,
   "metadata": {},
   "outputs": [],
   "source": [
    "data.sort()"
   ]
  },
  {
   "cell_type": "code",
   "execution_count": 60,
   "metadata": {},
   "outputs": [
    {
     "data": {
      "text/plain": [
       "[('alice', 4), ('julius', 3), ('maria', 1), ('maria', 2)]"
      ]
     },
     "execution_count": 60,
     "metadata": {},
     "output_type": "execute_result"
    }
   ],
   "source": [
    "data"
   ]
  },
  {
   "cell_type": "markdown",
   "metadata": {},
   "source": [
    "### Sets\n",
    "\n",
    "A set is a collection of unique values that unordered are unindexed."
   ]
  },
  {
   "cell_type": "code",
   "execution_count": 61,
   "metadata": {},
   "outputs": [],
   "source": [
    "myset = {'alice', 'julius', 'maria', 'maria'}"
   ]
  },
  {
   "cell_type": "code",
   "execution_count": 62,
   "metadata": {},
   "outputs": [
    {
     "data": {
      "text/plain": [
       "{'alice', 'julius', 'maria'}"
      ]
     },
     "execution_count": 62,
     "metadata": {},
     "output_type": "execute_result"
    }
   ],
   "source": [
    "myset"
   ]
  },
  {
   "cell_type": "code",
   "execution_count": 63,
   "metadata": {},
   "outputs": [
    {
     "ename": "TypeError",
     "evalue": "'set' object does not support indexing",
     "output_type": "error",
     "traceback": [
      "\u001b[0;31m---------------------------------------------------------------------------\u001b[0m",
      "\u001b[0;31mTypeError\u001b[0m                                 Traceback (most recent call last)",
      "\u001b[0;32m<ipython-input-63-7bf1ad60f89f>\u001b[0m in \u001b[0;36m<module>\u001b[0;34m()\u001b[0m\n\u001b[0;32m----> 1\u001b[0;31m \u001b[0mmyset\u001b[0m\u001b[0;34m[\u001b[0m\u001b[0;36m1\u001b[0m\u001b[0;34m]\u001b[0m\u001b[0;34m\u001b[0m\u001b[0;34m\u001b[0m\u001b[0m\n\u001b[0m",
      "\u001b[0;31mTypeError\u001b[0m: 'set' object does not support indexing"
     ]
    }
   ],
   "source": [
    "myset[1]"
   ]
  },
  {
   "cell_type": "code",
   "execution_count": 64,
   "metadata": {},
   "outputs": [
    {
     "ename": "AttributeError",
     "evalue": "'set' object has no attribute 'sort'",
     "output_type": "error",
     "traceback": [
      "\u001b[0;31m---------------------------------------------------------------------------\u001b[0m",
      "\u001b[0;31mAttributeError\u001b[0m                            Traceback (most recent call last)",
      "\u001b[0;32m<ipython-input-64-562b01a6220b>\u001b[0m in \u001b[0;36m<module>\u001b[0;34m()\u001b[0m\n\u001b[0;32m----> 1\u001b[0;31m \u001b[0mmyset\u001b[0m\u001b[0;34m.\u001b[0m\u001b[0msort\u001b[0m\u001b[0;34m(\u001b[0m\u001b[0;34m)\u001b[0m\u001b[0;34m\u001b[0m\u001b[0;34m\u001b[0m\u001b[0m\n\u001b[0m",
      "\u001b[0;31mAttributeError\u001b[0m: 'set' object has no attribute 'sort'"
     ]
    }
   ],
   "source": [
    "myset.sort()"
   ]
  },
  {
   "cell_type": "code",
   "execution_count": 65,
   "metadata": {},
   "outputs": [
    {
     "ename": "AttributeError",
     "evalue": "'set' object has no attribute 'append'",
     "output_type": "error",
     "traceback": [
      "\u001b[0;31m---------------------------------------------------------------------------\u001b[0m",
      "\u001b[0;31mAttributeError\u001b[0m                            Traceback (most recent call last)",
      "\u001b[0;32m<ipython-input-65-8d49ac28b157>\u001b[0m in \u001b[0;36m<module>\u001b[0;34m()\u001b[0m\n\u001b[0;32m----> 1\u001b[0;31m \u001b[0mmyset\u001b[0m\u001b[0;34m.\u001b[0m\u001b[0mappend\u001b[0m\u001b[0;34m(\u001b[0m\u001b[0;34m'cornelia'\u001b[0m\u001b[0;34m)\u001b[0m\u001b[0;34m\u001b[0m\u001b[0;34m\u001b[0m\u001b[0m\n\u001b[0m",
      "\u001b[0;31mAttributeError\u001b[0m: 'set' object has no attribute 'append'"
     ]
    }
   ],
   "source": [
    "myset.append('cornelia')"
   ]
  },
  {
   "cell_type": "code",
   "execution_count": 66,
   "metadata": {},
   "outputs": [],
   "source": [
    "myset.add('cornelia')"
   ]
  },
  {
   "cell_type": "code",
   "execution_count": 67,
   "metadata": {},
   "outputs": [
    {
     "data": {
      "text/plain": [
       "{'alice', 'cornelia', 'julius', 'maria'}"
      ]
     },
     "execution_count": 67,
     "metadata": {},
     "output_type": "execute_result"
    }
   ],
   "source": [
    "myset"
   ]
  },
  {
   "cell_type": "code",
   "execution_count": 68,
   "metadata": {},
   "outputs": [],
   "source": [
    "myset.add(3)"
   ]
  },
  {
   "cell_type": "code",
   "execution_count": 69,
   "metadata": {},
   "outputs": [
    {
     "name": "stdout",
     "output_type": "stream",
     "text": [
      "{'maria', 3, 'julius', 'cornelia', 'alice'}\n"
     ]
    }
   ],
   "source": [
    "print(myset)"
   ]
  },
  {
   "cell_type": "code",
   "execution_count": 70,
   "metadata": {},
   "outputs": [
    {
     "data": {
      "text/plain": [
       "{3, 'alice', 'cornelia', 'julius', 'maria'}"
      ]
     },
     "execution_count": 70,
     "metadata": {},
     "output_type": "execute_result"
    }
   ],
   "source": [
    "myset"
   ]
  },
  {
   "cell_type": "code",
   "execution_count": 71,
   "metadata": {},
   "outputs": [
    {
     "data": {
      "text/plain": [
       "True"
      ]
     },
     "execution_count": 71,
     "metadata": {},
     "output_type": "execute_result"
    }
   ],
   "source": [
    "'alice' in myset"
   ]
  },
  {
   "cell_type": "code",
   "execution_count": 72,
   "metadata": {},
   "outputs": [
    {
     "name": "stdout",
     "output_type": "stream",
     "text": [
      "maria\n",
      "3\n",
      "julius\n",
      "cornelia\n",
      "alice\n"
     ]
    }
   ],
   "source": [
    "for values in myset:\n",
    "    print(values)"
   ]
  },
  {
   "cell_type": "code",
   "execution_count": 73,
   "metadata": {},
   "outputs": [
    {
     "data": {
      "text/plain": [
       "5"
      ]
     },
     "execution_count": 73,
     "metadata": {},
     "output_type": "execute_result"
    }
   ],
   "source": [
    "len(myset)"
   ]
  },
  {
   "cell_type": "markdown",
   "metadata": {},
   "source": [
    "### Dictionaries\n",
    "\n",
    "Are lookup tables that map a **key** to a **value**. The keys of a dictionary form a Set. Thus duplicate keys are not allowed."
   ]
  },
  {
   "cell_type": "code",
   "execution_count": 74,
   "metadata": {},
   "outputs": [],
   "source": [
    "cities= {'A': 'Ancona',\n",
    "'B': 'Bary',\n",
    "'C': 'Como'}"
   ]
  },
  {
   "cell_type": "code",
   "execution_count": 75,
   "metadata": {},
   "outputs": [
    {
     "data": {
      "text/plain": [
       "{'A': 'Ancona', 'B': 'Bary', 'C': 'Como'}"
      ]
     },
     "execution_count": 75,
     "metadata": {},
     "output_type": "execute_result"
    }
   ],
   "source": [
    "cities"
   ]
  },
  {
   "cell_type": "code",
   "execution_count": 76,
   "metadata": {},
   "outputs": [
    {
     "data": {
      "text/plain": [
       "'Ancona'"
      ]
     },
     "execution_count": 76,
     "metadata": {},
     "output_type": "execute_result"
    }
   ],
   "source": [
    "cities['A']"
   ]
  },
  {
   "cell_type": "code",
   "execution_count": 77,
   "metadata": {},
   "outputs": [
    {
     "data": {
      "text/plain": [
       "'Ancona'"
      ]
     },
     "execution_count": 77,
     "metadata": {},
     "output_type": "execute_result"
    }
   ],
   "source": [
    "cities.get('A')"
   ]
  },
  {
   "cell_type": "code",
   "execution_count": 78,
   "metadata": {},
   "outputs": [
    {
     "ename": "KeyError",
     "evalue": "'X'",
     "output_type": "error",
     "traceback": [
      "\u001b[0;31m---------------------------------------------------------------------------\u001b[0m",
      "\u001b[0;31mKeyError\u001b[0m                                  Traceback (most recent call last)",
      "\u001b[0;32m<ipython-input-78-b35f79880a9e>\u001b[0m in \u001b[0;36m<module>\u001b[0;34m()\u001b[0m\n\u001b[0;32m----> 1\u001b[0;31m \u001b[0mcities\u001b[0m\u001b[0;34m[\u001b[0m\u001b[0;34m'X'\u001b[0m\u001b[0;34m]\u001b[0m\u001b[0;34m\u001b[0m\u001b[0;34m\u001b[0m\u001b[0m\n\u001b[0m",
      "\u001b[0;31mKeyError\u001b[0m: 'X'"
     ]
    }
   ],
   "source": [
    "cities['X']"
   ]
  },
  {
   "cell_type": "code",
   "execution_count": 79,
   "metadata": {},
   "outputs": [
    {
     "data": {
      "text/plain": [
       "'unknown'"
      ]
     },
     "execution_count": 79,
     "metadata": {},
     "output_type": "execute_result"
    }
   ],
   "source": [
    "cities.get('X','unknown')"
   ]
  },
  {
   "cell_type": "code",
   "execution_count": 81,
   "metadata": {},
   "outputs": [],
   "source": [
    "cities['D'] = 'Domodossola'"
   ]
  },
  {
   "cell_type": "code",
   "execution_count": 82,
   "metadata": {},
   "outputs": [
    {
     "data": {
      "text/plain": [
       "'Domodossola'"
      ]
     },
     "execution_count": 82,
     "metadata": {},
     "output_type": "execute_result"
    }
   ],
   "source": [
    "cities['D']"
   ]
  },
  {
   "cell_type": "markdown",
   "metadata": {},
   "source": [
    "Values can be of any type"
   ]
  },
  {
   "cell_type": "code",
   "execution_count": 83,
   "metadata": {},
   "outputs": [],
   "source": [
    "cities['E'] = 42"
   ]
  },
  {
   "cell_type": "code",
   "execution_count": 84,
   "metadata": {},
   "outputs": [
    {
     "data": {
      "text/plain": [
       "{'A': 'Ancona', 'B': 'Bary', 'C': 'Como', 'D': 'Domodossola', 'E': 42}"
      ]
     },
     "execution_count": 84,
     "metadata": {},
     "output_type": "execute_result"
    }
   ],
   "source": [
    "cities"
   ]
  },
  {
   "cell_type": "markdown",
   "metadata": {},
   "source": [
    "Keys can be of any data type"
   ]
  },
  {
   "cell_type": "code",
   "execution_count": 85,
   "metadata": {},
   "outputs": [],
   "source": [
    "cities[42] = 'E'"
   ]
  },
  {
   "cell_type": "code",
   "execution_count": 86,
   "metadata": {},
   "outputs": [
    {
     "data": {
      "text/plain": [
       "{42: 'E', 'A': 'Ancona', 'B': 'Bary', 'C': 'Como', 'D': 'Domodossola', 'E': 42}"
      ]
     },
     "execution_count": 86,
     "metadata": {},
     "output_type": "execute_result"
    }
   ],
   "source": [
    "cities"
   ]
  },
  {
   "cell_type": "code",
   "execution_count": 87,
   "metadata": {},
   "outputs": [
    {
     "data": {
      "text/plain": [
       "'E'"
      ]
     },
     "execution_count": 87,
     "metadata": {},
     "output_type": "execute_result"
    }
   ],
   "source": [
    "cities.pop(42)"
   ]
  },
  {
   "cell_type": "code",
   "execution_count": 88,
   "metadata": {},
   "outputs": [
    {
     "data": {
      "text/plain": [
       "{'A': 'Ancona', 'B': 'Bary', 'C': 'Como', 'D': 'Domodossola', 'E': 42}"
      ]
     },
     "execution_count": 88,
     "metadata": {},
     "output_type": "execute_result"
    }
   ],
   "source": [
    "cities"
   ]
  },
  {
   "cell_type": "code",
   "execution_count": 89,
   "metadata": {},
   "outputs": [],
   "source": [
    "del cities['E']"
   ]
  },
  {
   "cell_type": "code",
   "execution_count": 90,
   "metadata": {},
   "outputs": [
    {
     "data": {
      "text/plain": [
       "{'A': 'Ancona', 'B': 'Bary', 'C': 'Como', 'D': 'Domodossola'}"
      ]
     },
     "execution_count": 90,
     "metadata": {},
     "output_type": "execute_result"
    }
   ],
   "source": [
    "cities"
   ]
  },
  {
   "cell_type": "code",
   "execution_count": 91,
   "metadata": {},
   "outputs": [
    {
     "data": {
      "text/plain": [
       "4"
      ]
     },
     "execution_count": 91,
     "metadata": {},
     "output_type": "execute_result"
    }
   ],
   "source": [
    "len(cities)"
   ]
  },
  {
   "cell_type": "code",
   "execution_count": 92,
   "metadata": {},
   "outputs": [],
   "source": [
    "nobel = {\n",
    "(1979, \"physics\"): [\"Glashow\", \"Salam\", \"Weinberg\"],\n",
    "(1962, \"chemistry\"): [\"Hodgkin\"],\n",
    "(1984, \"biology\"): [\"McClintock\"],\n",
    "}"
   ]
  },
  {
   "cell_type": "code",
   "execution_count": 93,
   "metadata": {},
   "outputs": [
    {
     "data": {
      "text/plain": [
       "{(1962, 'chemistry'): ['Hodgkin'],\n",
       " (1979, 'physics'): ['Glashow', 'Salam', 'Weinberg'],\n",
       " (1984, 'biology'): ['McClintock']}"
      ]
     },
     "execution_count": 93,
     "metadata": {},
     "output_type": "execute_result"
    }
   ],
   "source": [
    "nobel"
   ]
  },
  {
   "cell_type": "code",
   "execution_count": 94,
   "metadata": {},
   "outputs": [
    {
     "name": "stdout",
     "output_type": "stream",
     "text": [
      "(1979, 'physics')\n",
      "(1962, 'chemistry')\n",
      "(1984, 'biology')\n"
     ]
    }
   ],
   "source": [
    "for key in nobel:\n",
    "    print(key)"
   ]
  },
  {
   "cell_type": "code",
   "execution_count": 95,
   "metadata": {},
   "outputs": [
    {
     "name": "stdout",
     "output_type": "stream",
     "text": [
      "['Glashow', 'Salam', 'Weinberg']\n",
      "['Hodgkin']\n",
      "['McClintock']\n"
     ]
    }
   ],
   "source": [
    "for key in nobel:\n",
    "    print(nobel[key])"
   ]
  },
  {
   "cell_type": "code",
   "execution_count": 96,
   "metadata": {},
   "outputs": [
    {
     "name": "stdout",
     "output_type": "stream",
     "text": [
      "(1979, 'physics') ['Glashow', 'Salam', 'Weinberg']\n",
      "(1962, 'chemistry') ['Hodgkin']\n",
      "(1984, 'biology') ['McClintock']\n"
     ]
    }
   ],
   "source": [
    "for (key, value) in nobel.items():\n",
    "    print(key, value)"
   ]
  },
  {
   "cell_type": "code",
   "execution_count": 97,
   "metadata": {},
   "outputs": [
    {
     "data": {
      "text/plain": [
       "dict_values([['Glashow', 'Salam', 'Weinberg'], ['Hodgkin'], ['McClintock']])"
      ]
     },
     "execution_count": 97,
     "metadata": {},
     "output_type": "execute_result"
    }
   ],
   "source": [
    "nobel.values()"
   ]
  },
  {
   "cell_type": "code",
   "execution_count": 98,
   "metadata": {},
   "outputs": [
    {
     "data": {
      "text/plain": [
       "dict_keys([(1979, 'physics'), (1962, 'chemistry'), (1984, 'biology')])"
      ]
     },
     "execution_count": 98,
     "metadata": {},
     "output_type": "execute_result"
    }
   ],
   "source": [
    "nobel.keys()"
   ]
  },
  {
   "cell_type": "markdown",
   "metadata": {},
   "source": [
    "# Part 2 - Pandas"
   ]
  },
  {
   "cell_type": "markdown",
   "metadata": {},
   "source": [
    "An library with useful tools for data engineering."
   ]
  },
  {
   "cell_type": "code",
   "execution_count": 99,
   "metadata": {},
   "outputs": [],
   "source": [
    "import numpy as np\n",
    "import pandas as pd"
   ]
  },
  {
   "cell_type": "markdown",
   "metadata": {},
   "source": [
    "## Series\n",
    "Represent a list of values."
   ]
  },
  {
   "cell_type": "code",
   "execution_count": 100,
   "metadata": {},
   "outputs": [],
   "source": [
    "s = pd.Series([1, 3, 5, np.nan, 6, 8])"
   ]
  },
  {
   "cell_type": "code",
   "execution_count": 101,
   "metadata": {},
   "outputs": [
    {
     "data": {
      "text/plain": [
       "0    1.0\n",
       "1    3.0\n",
       "2    5.0\n",
       "3    NaN\n",
       "4    6.0\n",
       "5    8.0\n",
       "dtype: float64"
      ]
     },
     "execution_count": 101,
     "metadata": {},
     "output_type": "execute_result"
    }
   ],
   "source": [
    "s"
   ]
  },
  {
   "cell_type": "markdown",
   "metadata": {},
   "source": [
    "**Jupyter** does not enforce the flow of execution. Code sniplets can be executed in any order, possibly changing the state of the variables used."
   ]
  },
  {
   "cell_type": "code",
   "execution_count": 102,
   "metadata": {},
   "outputs": [
    {
     "data": {
      "text/plain": [
       "{3, 'alice', 'cornelia', 'julius', 'maria'}"
      ]
     },
     "execution_count": 102,
     "metadata": {},
     "output_type": "execute_result"
    }
   ],
   "source": [
    "myset"
   ]
  },
  {
   "cell_type": "code",
   "execution_count": 103,
   "metadata": {},
   "outputs": [],
   "source": [
    "myindex = [value for value in myset]"
   ]
  },
  {
   "cell_type": "code",
   "execution_count": 104,
   "metadata": {},
   "outputs": [
    {
     "data": {
      "text/plain": [
       "['maria', 3, 'julius', 'cornelia', 'alice']"
      ]
     },
     "execution_count": 104,
     "metadata": {},
     "output_type": "execute_result"
    }
   ],
   "source": [
    "myindex"
   ]
  },
  {
   "cell_type": "code",
   "execution_count": 105,
   "metadata": {},
   "outputs": [],
   "source": [
    "myseries = pd.Series(np.random.randn(5), index = myindex)"
   ]
  },
  {
   "cell_type": "code",
   "execution_count": 106,
   "metadata": {},
   "outputs": [
    {
     "data": {
      "text/plain": [
       "maria      -0.601428\n",
       "3          -0.004417\n",
       "julius     -0.747530\n",
       "cornelia    0.084172\n",
       "alice       0.590208\n",
       "dtype: float64"
      ]
     },
     "execution_count": 106,
     "metadata": {},
     "output_type": "execute_result"
    }
   ],
   "source": [
    "myseries"
   ]
  },
  {
   "cell_type": "markdown",
   "metadata": {},
   "source": [
    "Remark here **randn** returns a sample (or samples) from the “standard normal” distribution.\n",
    "\n",
    "https://docs.scipy.org/doc/numpy-1.15.1/reference/generated/numpy.random.randn.html"
   ]
  },
  {
   "cell_type": "code",
   "execution_count": 107,
   "metadata": {},
   "outputs": [],
   "source": [
    "myseries['pitt'] = 1.5"
   ]
  },
  {
   "cell_type": "code",
   "execution_count": 108,
   "metadata": {},
   "outputs": [
    {
     "data": {
      "text/plain": [
       "maria      -0.601428\n",
       "3          -0.004417\n",
       "julius     -0.747530\n",
       "cornelia    0.084172\n",
       "alice       0.590208\n",
       "pitt        1.500000\n",
       "dtype: float64"
      ]
     },
     "execution_count": 108,
     "metadata": {},
     "output_type": "execute_result"
    }
   ],
   "source": [
    "myseries"
   ]
  },
  {
   "cell_type": "code",
   "execution_count": 109,
   "metadata": {},
   "outputs": [
    {
     "data": {
      "text/plain": [
       "-0.7475296432987291"
      ]
     },
     "execution_count": 109,
     "metadata": {},
     "output_type": "execute_result"
    }
   ],
   "source": [
    "myseries['julius']"
   ]
  },
  {
   "cell_type": "code",
   "execution_count": 110,
   "metadata": {},
   "outputs": [
    {
     "data": {
      "text/plain": [
       "1.5"
      ]
     },
     "execution_count": 110,
     "metadata": {},
     "output_type": "execute_result"
    }
   ],
   "source": [
    "myseries.max()"
   ]
  },
  {
   "cell_type": "code",
   "execution_count": 111,
   "metadata": {},
   "outputs": [
    {
     "data": {
      "text/plain": [
       "0.8210045925335643"
      ]
     },
     "execution_count": 111,
     "metadata": {},
     "output_type": "execute_result"
    }
   ],
   "source": [
    "myseries.sum()"
   ]
  },
  {
   "cell_type": "code",
   "execution_count": 112,
   "metadata": {},
   "outputs": [
    {
     "data": {
      "text/plain": [
       "{(1962, 'chemistry'): ['Hodgkin'],\n",
       " (1979, 'physics'): ['Glashow', 'Salam', 'Weinberg'],\n",
       " (1984, 'biology'): ['McClintock']}"
      ]
     },
     "execution_count": 112,
     "metadata": {},
     "output_type": "execute_result"
    }
   ],
   "source": [
    "nobel"
   ]
  },
  {
   "cell_type": "code",
   "execution_count": 113,
   "metadata": {},
   "outputs": [],
   "source": [
    "nobelseries = pd.Series(nobel)"
   ]
  },
  {
   "cell_type": "code",
   "execution_count": 114,
   "metadata": {},
   "outputs": [
    {
     "data": {
      "text/plain": [
       "1979  physics      [Glashow, Salam, Weinberg]\n",
       "1962  chemistry                     [Hodgkin]\n",
       "1984  biology                    [McClintock]\n",
       "dtype: object"
      ]
     },
     "execution_count": 114,
     "metadata": {},
     "output_type": "execute_result"
    }
   ],
   "source": [
    "nobelseries"
   ]
  },
  {
   "cell_type": "code",
   "execution_count": 115,
   "metadata": {},
   "outputs": [
    {
     "data": {
      "text/plain": [
       "['McClintock']"
      ]
     },
     "execution_count": 115,
     "metadata": {},
     "output_type": "execute_result"
    }
   ],
   "source": [
    "nobelseries[(1984,'biology')]"
   ]
  },
  {
   "cell_type": "markdown",
   "metadata": {},
   "source": [
    "## DataFrames\n",
    "\n",
    "A 2-dimensional labeled data structure with columns of potentially different types."
   ]
  },
  {
   "cell_type": "code",
   "execution_count": 116,
   "metadata": {},
   "outputs": [],
   "source": [
    "seriesA = pd.Series([1., 2., 3.], index=['a', 'b', 'c'])\n",
    "seriesB = pd.Series([1., 2., 3., 4.], index=['a', 'b', 'c', 'd'])"
   ]
  },
  {
   "cell_type": "code",
   "execution_count": 117,
   "metadata": {},
   "outputs": [],
   "source": [
    "d = {'Series A': seriesA, 'Series B': seriesB}"
   ]
  },
  {
   "cell_type": "code",
   "execution_count": 118,
   "metadata": {},
   "outputs": [],
   "source": [
    "frame = pd.DataFrame(d)"
   ]
  },
  {
   "cell_type": "code",
   "execution_count": 119,
   "metadata": {},
   "outputs": [
    {
     "data": {
      "text/html": [
       "<div>\n",
       "<style scoped>\n",
       "    .dataframe tbody tr th:only-of-type {\n",
       "        vertical-align: middle;\n",
       "    }\n",
       "\n",
       "    .dataframe tbody tr th {\n",
       "        vertical-align: top;\n",
       "    }\n",
       "\n",
       "    .dataframe thead th {\n",
       "        text-align: right;\n",
       "    }\n",
       "</style>\n",
       "<table border=\"1\" class=\"dataframe\">\n",
       "  <thead>\n",
       "    <tr style=\"text-align: right;\">\n",
       "      <th></th>\n",
       "      <th>Series A</th>\n",
       "      <th>Series B</th>\n",
       "    </tr>\n",
       "  </thead>\n",
       "  <tbody>\n",
       "    <tr>\n",
       "      <th>a</th>\n",
       "      <td>1.0</td>\n",
       "      <td>1.0</td>\n",
       "    </tr>\n",
       "    <tr>\n",
       "      <th>b</th>\n",
       "      <td>2.0</td>\n",
       "      <td>2.0</td>\n",
       "    </tr>\n",
       "    <tr>\n",
       "      <th>c</th>\n",
       "      <td>3.0</td>\n",
       "      <td>3.0</td>\n",
       "    </tr>\n",
       "    <tr>\n",
       "      <th>d</th>\n",
       "      <td>NaN</td>\n",
       "      <td>4.0</td>\n",
       "    </tr>\n",
       "  </tbody>\n",
       "</table>\n",
       "</div>"
      ],
      "text/plain": [
       "   Series A  Series B\n",
       "a       1.0       1.0\n",
       "b       2.0       2.0\n",
       "c       3.0       3.0\n",
       "d       NaN       4.0"
      ]
     },
     "execution_count": 119,
     "metadata": {},
     "output_type": "execute_result"
    }
   ],
   "source": [
    "frame"
   ]
  },
  {
   "cell_type": "code",
   "execution_count": 120,
   "metadata": {},
   "outputs": [
    {
     "data": {
      "text/plain": [
       "a    1.0\n",
       "b    2.0\n",
       "c    3.0\n",
       "d    NaN\n",
       "Name: Series A, dtype: float64"
      ]
     },
     "execution_count": 120,
     "metadata": {},
     "output_type": "execute_result"
    }
   ],
   "source": [
    "frame['Series A']"
   ]
  },
  {
   "cell_type": "code",
   "execution_count": 121,
   "metadata": {},
   "outputs": [
    {
     "data": {
      "text/plain": [
       "2.0"
      ]
     },
     "execution_count": 121,
     "metadata": {},
     "output_type": "execute_result"
    }
   ],
   "source": [
    "frame['Series A']['b']"
   ]
  },
  {
   "cell_type": "code",
   "execution_count": 122,
   "metadata": {},
   "outputs": [
    {
     "data": {
      "text/plain": [
       "Series A    3.0\n",
       "Series B    3.0\n",
       "Name: c, dtype: float64"
      ]
     },
     "execution_count": 122,
     "metadata": {},
     "output_type": "execute_result"
    }
   ],
   "source": [
    "frame.iloc[2]"
   ]
  },
  {
   "cell_type": "code",
   "execution_count": 123,
   "metadata": {},
   "outputs": [],
   "source": [
    "frame = pd.DataFrame(d, index=['d', 'b', 'a'])"
   ]
  },
  {
   "cell_type": "code",
   "execution_count": 124,
   "metadata": {},
   "outputs": [
    {
     "data": {
      "text/html": [
       "<div>\n",
       "<style scoped>\n",
       "    .dataframe tbody tr th:only-of-type {\n",
       "        vertical-align: middle;\n",
       "    }\n",
       "\n",
       "    .dataframe tbody tr th {\n",
       "        vertical-align: top;\n",
       "    }\n",
       "\n",
       "    .dataframe thead th {\n",
       "        text-align: right;\n",
       "    }\n",
       "</style>\n",
       "<table border=\"1\" class=\"dataframe\">\n",
       "  <thead>\n",
       "    <tr style=\"text-align: right;\">\n",
       "      <th></th>\n",
       "      <th>Series A</th>\n",
       "      <th>Series B</th>\n",
       "    </tr>\n",
       "  </thead>\n",
       "  <tbody>\n",
       "    <tr>\n",
       "      <th>d</th>\n",
       "      <td>NaN</td>\n",
       "      <td>4.0</td>\n",
       "    </tr>\n",
       "    <tr>\n",
       "      <th>b</th>\n",
       "      <td>2.0</td>\n",
       "      <td>2.0</td>\n",
       "    </tr>\n",
       "    <tr>\n",
       "      <th>a</th>\n",
       "      <td>1.0</td>\n",
       "      <td>1.0</td>\n",
       "    </tr>\n",
       "  </tbody>\n",
       "</table>\n",
       "</div>"
      ],
      "text/plain": [
       "   Series A  Series B\n",
       "d       NaN       4.0\n",
       "b       2.0       2.0\n",
       "a       1.0       1.0"
      ]
     },
     "execution_count": 124,
     "metadata": {},
     "output_type": "execute_result"
    }
   ],
   "source": [
    "frame"
   ]
  },
  {
   "cell_type": "code",
   "execution_count": 125,
   "metadata": {},
   "outputs": [],
   "source": [
    "frame = pd.DataFrame(d, index=['d', 'b', 'a'], columns=['Series B', 'Series C'])"
   ]
  },
  {
   "cell_type": "code",
   "execution_count": 126,
   "metadata": {},
   "outputs": [
    {
     "data": {
      "text/html": [
       "<div>\n",
       "<style scoped>\n",
       "    .dataframe tbody tr th:only-of-type {\n",
       "        vertical-align: middle;\n",
       "    }\n",
       "\n",
       "    .dataframe tbody tr th {\n",
       "        vertical-align: top;\n",
       "    }\n",
       "\n",
       "    .dataframe thead th {\n",
       "        text-align: right;\n",
       "    }\n",
       "</style>\n",
       "<table border=\"1\" class=\"dataframe\">\n",
       "  <thead>\n",
       "    <tr style=\"text-align: right;\">\n",
       "      <th></th>\n",
       "      <th>Series B</th>\n",
       "      <th>Series C</th>\n",
       "    </tr>\n",
       "  </thead>\n",
       "  <tbody>\n",
       "    <tr>\n",
       "      <th>d</th>\n",
       "      <td>4.0</td>\n",
       "      <td>NaN</td>\n",
       "    </tr>\n",
       "    <tr>\n",
       "      <th>b</th>\n",
       "      <td>2.0</td>\n",
       "      <td>NaN</td>\n",
       "    </tr>\n",
       "    <tr>\n",
       "      <th>a</th>\n",
       "      <td>1.0</td>\n",
       "      <td>NaN</td>\n",
       "    </tr>\n",
       "  </tbody>\n",
       "</table>\n",
       "</div>"
      ],
      "text/plain": [
       "   Series B Series C\n",
       "d       4.0      NaN\n",
       "b       2.0      NaN\n",
       "a       1.0      NaN"
      ]
     },
     "execution_count": 126,
     "metadata": {},
     "output_type": "execute_result"
    }
   ],
   "source": [
    "frame"
   ]
  },
  {
   "cell_type": "code",
   "execution_count": 127,
   "metadata": {},
   "outputs": [
    {
     "data": {
      "text/plain": [
       "d     True\n",
       "b    False\n",
       "a    False\n",
       "Name: Series B, dtype: bool"
      ]
     },
     "execution_count": 127,
     "metadata": {},
     "output_type": "execute_result"
    }
   ],
   "source": [
    "frame['Series B'] > 2.0"
   ]
  },
  {
   "cell_type": "code",
   "execution_count": 128,
   "metadata": {},
   "outputs": [
    {
     "name": "stderr",
     "output_type": "stream",
     "text": [
      "/usr/lib/python3/dist-packages/ipykernel_launcher.py:1: SettingWithCopyWarning: \n",
      "A value is trying to be set on a copy of a slice from a DataFrame\n",
      "\n",
      "See the caveats in the documentation: http://pandas.pydata.org/pandas-docs/stable/indexing.html#indexing-view-versus-copy\n",
      "  \"\"\"Entry point for launching an IPython kernel.\n"
     ]
    }
   ],
   "source": [
    "frame['Series B']['b'] = 2.5"
   ]
  },
  {
   "cell_type": "code",
   "execution_count": 129,
   "metadata": {},
   "outputs": [
    {
     "data": {
      "text/plain": [
       "d     True\n",
       "b     True\n",
       "a    False\n",
       "Name: Series B, dtype: bool"
      ]
     },
     "execution_count": 129,
     "metadata": {},
     "output_type": "execute_result"
    }
   ],
   "source": [
    "frame['Series B'] > 2.0"
   ]
  },
  {
   "cell_type": "code",
   "execution_count": 130,
   "metadata": {},
   "outputs": [],
   "source": [
    "frame.insert(1, 'copy B', frame['Series B'])"
   ]
  },
  {
   "cell_type": "code",
   "execution_count": 131,
   "metadata": {},
   "outputs": [
    {
     "data": {
      "text/html": [
       "<div>\n",
       "<style scoped>\n",
       "    .dataframe tbody tr th:only-of-type {\n",
       "        vertical-align: middle;\n",
       "    }\n",
       "\n",
       "    .dataframe tbody tr th {\n",
       "        vertical-align: top;\n",
       "    }\n",
       "\n",
       "    .dataframe thead th {\n",
       "        text-align: right;\n",
       "    }\n",
       "</style>\n",
       "<table border=\"1\" class=\"dataframe\">\n",
       "  <thead>\n",
       "    <tr style=\"text-align: right;\">\n",
       "      <th></th>\n",
       "      <th>Series B</th>\n",
       "      <th>copy B</th>\n",
       "      <th>Series C</th>\n",
       "    </tr>\n",
       "  </thead>\n",
       "  <tbody>\n",
       "    <tr>\n",
       "      <th>d</th>\n",
       "      <td>4.0</td>\n",
       "      <td>4.0</td>\n",
       "      <td>NaN</td>\n",
       "    </tr>\n",
       "    <tr>\n",
       "      <th>b</th>\n",
       "      <td>2.5</td>\n",
       "      <td>2.5</td>\n",
       "      <td>NaN</td>\n",
       "    </tr>\n",
       "    <tr>\n",
       "      <th>a</th>\n",
       "      <td>1.0</td>\n",
       "      <td>1.0</td>\n",
       "      <td>NaN</td>\n",
       "    </tr>\n",
       "  </tbody>\n",
       "</table>\n",
       "</div>"
      ],
      "text/plain": [
       "   Series B  copy B Series C\n",
       "d       4.0     4.0      NaN\n",
       "b       2.5     2.5      NaN\n",
       "a       1.0     1.0      NaN"
      ]
     },
     "execution_count": 131,
     "metadata": {},
     "output_type": "execute_result"
    }
   ],
   "source": [
    "frame"
   ]
  },
  {
   "cell_type": "code",
   "execution_count": 132,
   "metadata": {},
   "outputs": [
    {
     "data": {
      "text/html": [
       "<div>\n",
       "<style scoped>\n",
       "    .dataframe tbody tr th:only-of-type {\n",
       "        vertical-align: middle;\n",
       "    }\n",
       "\n",
       "    .dataframe tbody tr th {\n",
       "        vertical-align: top;\n",
       "    }\n",
       "\n",
       "    .dataframe thead th {\n",
       "        text-align: right;\n",
       "    }\n",
       "</style>\n",
       "<table border=\"1\" class=\"dataframe\">\n",
       "  <thead>\n",
       "    <tr style=\"text-align: right;\">\n",
       "      <th></th>\n",
       "      <th>Series B</th>\n",
       "      <th>copy B</th>\n",
       "      <th>Series C</th>\n",
       "    </tr>\n",
       "  </thead>\n",
       "  <tbody>\n",
       "    <tr>\n",
       "      <th>d</th>\n",
       "      <td>4.0</td>\n",
       "      <td>4.0</td>\n",
       "      <td>NaN</td>\n",
       "    </tr>\n",
       "    <tr>\n",
       "      <th>b</th>\n",
       "      <td>2.5</td>\n",
       "      <td>2.5</td>\n",
       "      <td>NaN</td>\n",
       "    </tr>\n",
       "  </tbody>\n",
       "</table>\n",
       "</div>"
      ],
      "text/plain": [
       "   Series B  copy B Series C\n",
       "d       4.0     4.0      NaN\n",
       "b       2.5     2.5      NaN"
      ]
     },
     "execution_count": 132,
     "metadata": {},
     "output_type": "execute_result"
    }
   ],
   "source": [
    "frame.loc[frame['Series B'] > 2.0]"
   ]
  },
  {
   "cell_type": "markdown",
   "metadata": {},
   "source": [
    "# Part 3 - Open Data\n",
    "https://dati.comune.roma.it/\n",
    "Portal of Open Data of City of Rome\n",
    "### Strutture ricettive gennaio 2019\n",
    "Provides a list of the hotels, hostels and in general all the structures that can receive guests within Roma that are active during January 2019.\n",
    "\n",
    "https://dati.comune.roma.it/catalog/dataset/d823/resource/9964559d-0a9b-4dd6-a417-eb1ed019ab59"
   ]
  },
  {
   "cell_type": "code",
   "execution_count": 134,
   "metadata": {},
   "outputs": [],
   "source": [
    "dataset = pd.read_csv('../data/opendata_suar_gennaio.csv', sep=',', delimiter=None, header='infer',\n",
    "names=None, index_col=None, usecols=None, encoding = \"ISO-8859-1\", nrows=20)"
   ]
  },
  {
   "cell_type": "markdown",
   "metadata": {},
   "source": [
    "The dataset uses a total of 25 features to describe each entry. Each one of these features are a single column of the DataFrame. Each rows includes the information for each entity."
   ]
  },
  {
   "cell_type": "code",
   "execution_count": 136,
   "metadata": {},
   "outputs": [
    {
     "data": {
      "text/plain": [
       "Index(['Insegna', 'Classificazione', 'Indirizzo', 'Municipio', 'Tipologia',\n",
       "       'Singole', 'Doppie', 'Triple', 'Quadruple', 'Quintuple', 'Sestuple',\n",
       "       'Unitaâ Abitative', 'Posti Letto Unitaâ Abitative', 'Sito Web',\n",
       "       'Email', 'Telefono', 'Fax', 'Cellulare', 'Contatto Facebook',\n",
       "       'Contatto Twitter', 'Contatto Instagram', 'Contatto Altro Social',\n",
       "       'Unnamed: 22', 'Unnamed: 23', 'Unnamed: 24'],\n",
       "      dtype='object')"
      ]
     },
     "execution_count": 136,
     "metadata": {},
     "output_type": "execute_result"
    }
   ],
   "source": [
    "dataset.columns"
   ]
  },
  {
   "cell_type": "markdown",
   "metadata": {},
   "source": [
    "The Rome Open Data Portal includes a [Data Dictionary](https://en.wikipedia.org/wiki/Data_dictionary) at the bottom of the web page of each dataset. For this particular dataset, the data dictionary is as follows:\n",
    "\n",
    "|**Column** | **Type** | **Descrizione**      |\n",
    "|-----------|:--------:|---------------------:|\n",
    "|Insegna    | text     | Name of the strucute |\n",
    "| Classificazione |\ttext | Category of structure |\n",
    "| Indirizzo | text | The street where the structure is located |\n",
    "| Municipio | text | The number of the street |\n",
    "| Tipologia | text | [The administrative subdivision of Rome](https://en.wikipedia.org/wiki/Administrative_subdivision_of_Rome) |\n",
    "| Singole | text | Number of single-bed rooms |\n",
    "| Doppie | numeric | Number of double-bed rooms |\n",
    "| Triple | numeric | Number of three-bed rooms |\n",
    "| Quadruple | numeric | Number of four-bed rooms |\n",
    "| Quintuple | numeric | Number of five-bed rooms |\n",
    "| Sestuple | numeric | Number of six-bed rooms |\n",
    "| Unita’ Abitative | numeric | Number of housing units |\n",
    "| Posti Letto Unita’ Abitative | numeric | Number of beds |\n",
    "| Sito Web | numeric | Not used |\n",
    "| Email | text | Not used |\n",
    "| Telefono | text | Not used |\n",
    "| Fax | numeric | Not used |\n",
    "| Cellulare | text | Not used |\n",
    "| Contatto Facebook | numeric | Not used |\t\n",
    "| Contatto Twitter | text | Not used |\n",
    "| Contatto Instagram | text | Not used |\n",
    "| Contatto Altro Social | text | Not used |"
   ]
  },
  {
   "cell_type": "code",
   "execution_count": 137,
   "metadata": {},
   "outputs": [
    {
     "data": {
      "text/html": [
       "<div>\n",
       "<style scoped>\n",
       "    .dataframe tbody tr th:only-of-type {\n",
       "        vertical-align: middle;\n",
       "    }\n",
       "\n",
       "    .dataframe tbody tr th {\n",
       "        vertical-align: top;\n",
       "    }\n",
       "\n",
       "    .dataframe thead th {\n",
       "        text-align: right;\n",
       "    }\n",
       "</style>\n",
       "<table border=\"1\" class=\"dataframe\">\n",
       "  <thead>\n",
       "    <tr style=\"text-align: right;\">\n",
       "      <th></th>\n",
       "      <th>Insegna</th>\n",
       "      <th>Classificazione</th>\n",
       "      <th>Indirizzo</th>\n",
       "      <th>Municipio</th>\n",
       "      <th>Tipologia</th>\n",
       "      <th>Singole</th>\n",
       "      <th>Doppie</th>\n",
       "      <th>Triple</th>\n",
       "      <th>Quadruple</th>\n",
       "      <th>Quintuple</th>\n",
       "      <th>...</th>\n",
       "      <th>Telefono</th>\n",
       "      <th>Fax</th>\n",
       "      <th>Cellulare</th>\n",
       "      <th>Contatto Facebook</th>\n",
       "      <th>Contatto Twitter</th>\n",
       "      <th>Contatto Instagram</th>\n",
       "      <th>Contatto Altro Social</th>\n",
       "      <th>Unnamed: 22</th>\n",
       "      <th>Unnamed: 23</th>\n",
       "      <th>Unnamed: 24</th>\n",
       "    </tr>\n",
       "  </thead>\n",
       "  <tbody>\n",
       "    <tr>\n",
       "      <th>0</th>\n",
       "      <td>Casa e Appartamento per Vacanze \"Trastevere_ho...</td>\n",
       "      <td>Categoria 2</td>\n",
       "      <td>VIA FEDERICO ROSAZZA</td>\n",
       "      <td>52</td>\n",
       "      <td>Mun. XII</td>\n",
       "      <td>Casa Vacanze NON impr (Appartamento)</td>\n",
       "      <td>1.0</td>\n",
       "      <td>NaN</td>\n",
       "      <td>NaN</td>\n",
       "      <td>NaN</td>\n",
       "      <td>...</td>\n",
       "      <td>NaN</td>\n",
       "      <td>NaN</td>\n",
       "      <td>NaN</td>\n",
       "      <td>NaN</td>\n",
       "      <td>NaN</td>\n",
       "      <td>NaN</td>\n",
       "      <td>NaN</td>\n",
       "      <td>NaN</td>\n",
       "      <td>NaN</td>\n",
       "      <td>NaN</td>\n",
       "    </tr>\n",
       "    <tr>\n",
       "      <th>1</th>\n",
       "      <td>Casa e Appartamento per Vacanze \"VIVES 63\"</td>\n",
       "      <td>Categoria 1</td>\n",
       "      <td>VIA DI MONTE VERDE</td>\n",
       "      <td>63</td>\n",
       "      <td>Mun. XII</td>\n",
       "      <td>Casa Vacanze NON impr (Appartamento)</td>\n",
       "      <td>NaN</td>\n",
       "      <td>1.0</td>\n",
       "      <td>NaN</td>\n",
       "      <td>NaN</td>\n",
       "      <td>...</td>\n",
       "      <td>NaN</td>\n",
       "      <td>NaN</td>\n",
       "      <td>NaN</td>\n",
       "      <td>NaN</td>\n",
       "      <td>NaN</td>\n",
       "      <td>NaN</td>\n",
       "      <td>NaN</td>\n",
       "      <td>NaN</td>\n",
       "      <td>NaN</td>\n",
       "      <td>NaN</td>\n",
       "    </tr>\n",
       "    <tr>\n",
       "      <th>2</th>\n",
       "      <td>CASA E APPARTAMENTO PER VACANZE \"LA CASA DI FA...</td>\n",
       "      <td>Categoria 2</td>\n",
       "      <td>VIA AUGUSTO AUBRY</td>\n",
       "      <td>1</td>\n",
       "      <td>Mun. I</td>\n",
       "      <td>Casa Vacanze NON impr (Appartamento)</td>\n",
       "      <td>1.0</td>\n",
       "      <td>NaN</td>\n",
       "      <td>NaN</td>\n",
       "      <td>NaN</td>\n",
       "      <td>...</td>\n",
       "      <td>NaN</td>\n",
       "      <td>NaN</td>\n",
       "      <td>NaN</td>\n",
       "      <td>NaN</td>\n",
       "      <td>NaN</td>\n",
       "      <td>NaN</td>\n",
       "      <td>NaN</td>\n",
       "      <td>NaN</td>\n",
       "      <td>NaN</td>\n",
       "      <td>NaN</td>\n",
       "    </tr>\n",
       "    <tr>\n",
       "      <th>3</th>\n",
       "      <td>casa e appartamento per vacanze Valentina's house</td>\n",
       "      <td>Categoria 2</td>\n",
       "      <td>VIALE GIULIO CESARE</td>\n",
       "      <td>51/A</td>\n",
       "      <td>Mun. I</td>\n",
       "      <td>Casa Vacanze NON impr (Appartamento)</td>\n",
       "      <td>NaN</td>\n",
       "      <td>2.0</td>\n",
       "      <td>NaN</td>\n",
       "      <td>NaN</td>\n",
       "      <td>...</td>\n",
       "      <td>NaN</td>\n",
       "      <td>NaN</td>\n",
       "      <td>NaN</td>\n",
       "      <td>NaN</td>\n",
       "      <td>NaN</td>\n",
       "      <td>NaN</td>\n",
       "      <td>NaN</td>\n",
       "      <td>NaN</td>\n",
       "      <td>NaN</td>\n",
       "      <td>NaN</td>\n",
       "    </tr>\n",
       "    <tr>\n",
       "      <th>4</th>\n",
       "      <td>OLD CITY TESTACCIO CASA E APPARTAMENTO PER VAC...</td>\n",
       "      <td>Categoria 2</td>\n",
       "      <td>VIA ORAZIO ANTINORI</td>\n",
       "      <td>2</td>\n",
       "      <td>Mun. I</td>\n",
       "      <td>Casa Vacanze NON impr (Appartamento)</td>\n",
       "      <td>1.0</td>\n",
       "      <td>1.0</td>\n",
       "      <td>NaN</td>\n",
       "      <td>NaN</td>\n",
       "      <td>...</td>\n",
       "      <td>NaN</td>\n",
       "      <td>NaN</td>\n",
       "      <td>NaN</td>\n",
       "      <td>NaN</td>\n",
       "      <td>NaN</td>\n",
       "      <td>NaN</td>\n",
       "      <td>NaN</td>\n",
       "      <td>NaN</td>\n",
       "      <td>NaN</td>\n",
       "      <td>NaN</td>\n",
       "    </tr>\n",
       "  </tbody>\n",
       "</table>\n",
       "<p>5 rows × 25 columns</p>\n",
       "</div>"
      ],
      "text/plain": [
       "                                             Insegna Classificazione  \\\n",
       "0  Casa e Appartamento per Vacanze \"Trastevere_ho...     Categoria 2   \n",
       "1         Casa e Appartamento per Vacanze \"VIVES 63\"     Categoria 1   \n",
       "2  CASA E APPARTAMENTO PER VACANZE \"LA CASA DI FA...     Categoria 2   \n",
       "3  casa e appartamento per vacanze Valentina's house     Categoria 2   \n",
       "4  OLD CITY TESTACCIO CASA E APPARTAMENTO PER VAC...     Categoria 2   \n",
       "\n",
       "              Indirizzo Municipio  Tipologia  \\\n",
       "0  VIA FEDERICO ROSAZZA        52  Mun. XII    \n",
       "1    VIA DI MONTE VERDE        63  Mun. XII    \n",
       "2     VIA AUGUSTO AUBRY         1    Mun. I    \n",
       "3   VIALE GIULIO CESARE      51/A    Mun. I    \n",
       "4   VIA ORAZIO ANTINORI         2    Mun. I    \n",
       "\n",
       "                                Singole  Doppie  Triple  Quadruple  Quintuple  \\\n",
       "0  Casa Vacanze NON impr (Appartamento)     1.0     NaN        NaN        NaN   \n",
       "1  Casa Vacanze NON impr (Appartamento)     NaN     1.0        NaN        NaN   \n",
       "2  Casa Vacanze NON impr (Appartamento)     1.0     NaN        NaN        NaN   \n",
       "3  Casa Vacanze NON impr (Appartamento)     NaN     2.0        NaN        NaN   \n",
       "4  Casa Vacanze NON impr (Appartamento)     1.0     1.0        NaN        NaN   \n",
       "\n",
       "      ...       Telefono  Fax  Cellulare  Contatto Facebook  Contatto Twitter  \\\n",
       "0     ...            NaN  NaN        NaN                NaN               NaN   \n",
       "1     ...            NaN  NaN        NaN                NaN               NaN   \n",
       "2     ...            NaN  NaN        NaN                NaN               NaN   \n",
       "3     ...            NaN  NaN        NaN                NaN               NaN   \n",
       "4     ...            NaN  NaN        NaN                NaN               NaN   \n",
       "\n",
       "   Contatto Instagram  Contatto Altro Social  Unnamed: 22  Unnamed: 23  \\\n",
       "0                 NaN                    NaN          NaN          NaN   \n",
       "1                 NaN                    NaN          NaN          NaN   \n",
       "2                 NaN                    NaN          NaN          NaN   \n",
       "3                 NaN                    NaN          NaN          NaN   \n",
       "4                 NaN                    NaN          NaN          NaN   \n",
       "\n",
       "   Unnamed: 24  \n",
       "0          NaN  \n",
       "1          NaN  \n",
       "2          NaN  \n",
       "3          NaN  \n",
       "4          NaN  \n",
       "\n",
       "[5 rows x 25 columns]"
      ]
     },
     "execution_count": 137,
     "metadata": {},
     "output_type": "execute_result"
    }
   ],
   "source": [
    "dataset.head()"
   ]
  },
  {
   "cell_type": "code",
   "execution_count": 138,
   "metadata": {},
   "outputs": [
    {
     "data": {
      "text/html": [
       "<div>\n",
       "<style scoped>\n",
       "    .dataframe tbody tr th:only-of-type {\n",
       "        vertical-align: middle;\n",
       "    }\n",
       "\n",
       "    .dataframe tbody tr th {\n",
       "        vertical-align: top;\n",
       "    }\n",
       "\n",
       "    .dataframe thead th {\n",
       "        text-align: right;\n",
       "    }\n",
       "</style>\n",
       "<table border=\"1\" class=\"dataframe\">\n",
       "  <thead>\n",
       "    <tr style=\"text-align: right;\">\n",
       "      <th></th>\n",
       "      <th>Insegna</th>\n",
       "      <th>Classificazione</th>\n",
       "      <th>Indirizzo</th>\n",
       "      <th>Municipio</th>\n",
       "      <th>Tipologia</th>\n",
       "      <th>Singole</th>\n",
       "      <th>Doppie</th>\n",
       "      <th>Triple</th>\n",
       "      <th>Quadruple</th>\n",
       "      <th>Quintuple</th>\n",
       "      <th>...</th>\n",
       "      <th>Telefono</th>\n",
       "      <th>Fax</th>\n",
       "      <th>Cellulare</th>\n",
       "      <th>Contatto Facebook</th>\n",
       "      <th>Contatto Twitter</th>\n",
       "      <th>Contatto Instagram</th>\n",
       "      <th>Contatto Altro Social</th>\n",
       "      <th>Unnamed: 22</th>\n",
       "      <th>Unnamed: 23</th>\n",
       "      <th>Unnamed: 24</th>\n",
       "    </tr>\n",
       "  </thead>\n",
       "  <tbody>\n",
       "    <tr>\n",
       "      <th>0</th>\n",
       "      <td>Casa e Appartamento per Vacanze \"Trastevere_ho...</td>\n",
       "      <td>Categoria 2</td>\n",
       "      <td>VIA FEDERICO ROSAZZA</td>\n",
       "      <td>52</td>\n",
       "      <td>Mun. XII</td>\n",
       "      <td>Casa Vacanze NON impr (Appartamento)</td>\n",
       "      <td>1.0</td>\n",
       "      <td>NaN</td>\n",
       "      <td>NaN</td>\n",
       "      <td>NaN</td>\n",
       "      <td>...</td>\n",
       "      <td>NaN</td>\n",
       "      <td>NaN</td>\n",
       "      <td>NaN</td>\n",
       "      <td>NaN</td>\n",
       "      <td>NaN</td>\n",
       "      <td>NaN</td>\n",
       "      <td>NaN</td>\n",
       "      <td>NaN</td>\n",
       "      <td>NaN</td>\n",
       "      <td>NaN</td>\n",
       "    </tr>\n",
       "    <tr>\n",
       "      <th>1</th>\n",
       "      <td>Casa e Appartamento per Vacanze \"VIVES 63\"</td>\n",
       "      <td>Categoria 1</td>\n",
       "      <td>VIA DI MONTE VERDE</td>\n",
       "      <td>63</td>\n",
       "      <td>Mun. XII</td>\n",
       "      <td>Casa Vacanze NON impr (Appartamento)</td>\n",
       "      <td>NaN</td>\n",
       "      <td>1.0</td>\n",
       "      <td>NaN</td>\n",
       "      <td>NaN</td>\n",
       "      <td>...</td>\n",
       "      <td>NaN</td>\n",
       "      <td>NaN</td>\n",
       "      <td>NaN</td>\n",
       "      <td>NaN</td>\n",
       "      <td>NaN</td>\n",
       "      <td>NaN</td>\n",
       "      <td>NaN</td>\n",
       "      <td>NaN</td>\n",
       "      <td>NaN</td>\n",
       "      <td>NaN</td>\n",
       "    </tr>\n",
       "    <tr>\n",
       "      <th>2</th>\n",
       "      <td>CASA E APPARTAMENTO PER VACANZE \"LA CASA DI FA...</td>\n",
       "      <td>Categoria 2</td>\n",
       "      <td>VIA AUGUSTO AUBRY</td>\n",
       "      <td>1</td>\n",
       "      <td>Mun. I</td>\n",
       "      <td>Casa Vacanze NON impr (Appartamento)</td>\n",
       "      <td>1.0</td>\n",
       "      <td>NaN</td>\n",
       "      <td>NaN</td>\n",
       "      <td>NaN</td>\n",
       "      <td>...</td>\n",
       "      <td>NaN</td>\n",
       "      <td>NaN</td>\n",
       "      <td>NaN</td>\n",
       "      <td>NaN</td>\n",
       "      <td>NaN</td>\n",
       "      <td>NaN</td>\n",
       "      <td>NaN</td>\n",
       "      <td>NaN</td>\n",
       "      <td>NaN</td>\n",
       "      <td>NaN</td>\n",
       "    </tr>\n",
       "  </tbody>\n",
       "</table>\n",
       "<p>3 rows × 25 columns</p>\n",
       "</div>"
      ],
      "text/plain": [
       "                                             Insegna Classificazione  \\\n",
       "0  Casa e Appartamento per Vacanze \"Trastevere_ho...     Categoria 2   \n",
       "1         Casa e Appartamento per Vacanze \"VIVES 63\"     Categoria 1   \n",
       "2  CASA E APPARTAMENTO PER VACANZE \"LA CASA DI FA...     Categoria 2   \n",
       "\n",
       "              Indirizzo Municipio  Tipologia  \\\n",
       "0  VIA FEDERICO ROSAZZA        52  Mun. XII    \n",
       "1    VIA DI MONTE VERDE        63  Mun. XII    \n",
       "2     VIA AUGUSTO AUBRY         1    Mun. I    \n",
       "\n",
       "                                Singole  Doppie  Triple  Quadruple  Quintuple  \\\n",
       "0  Casa Vacanze NON impr (Appartamento)     1.0     NaN        NaN        NaN   \n",
       "1  Casa Vacanze NON impr (Appartamento)     NaN     1.0        NaN        NaN   \n",
       "2  Casa Vacanze NON impr (Appartamento)     1.0     NaN        NaN        NaN   \n",
       "\n",
       "      ...       Telefono  Fax  Cellulare  Contatto Facebook  Contatto Twitter  \\\n",
       "0     ...            NaN  NaN        NaN                NaN               NaN   \n",
       "1     ...            NaN  NaN        NaN                NaN               NaN   \n",
       "2     ...            NaN  NaN        NaN                NaN               NaN   \n",
       "\n",
       "   Contatto Instagram  Contatto Altro Social  Unnamed: 22  Unnamed: 23  \\\n",
       "0                 NaN                    NaN          NaN          NaN   \n",
       "1                 NaN                    NaN          NaN          NaN   \n",
       "2                 NaN                    NaN          NaN          NaN   \n",
       "\n",
       "   Unnamed: 24  \n",
       "0          NaN  \n",
       "1          NaN  \n",
       "2          NaN  \n",
       "\n",
       "[3 rows x 25 columns]"
      ]
     },
     "execution_count": 138,
     "metadata": {},
     "output_type": "execute_result"
    }
   ],
   "source": [
    "dataset[:3] # Look at the first 3 rows"
   ]
  },
  {
   "cell_type": "code",
   "execution_count": 139,
   "metadata": {},
   "outputs": [
    {
     "data": {
      "text/plain": [
       "0        52\n",
       "1        63\n",
       "2         1\n",
       "3      51/A\n",
       "4         2\n",
       "5        13\n",
       "6       107\n",
       "7        78\n",
       "8        95\n",
       "9       203\n",
       "10       56\n",
       "11       11\n",
       "12       59\n",
       "13       13\n",
       "14      186\n",
       "15       26\n",
       "16       23\n",
       "17       12\n",
       "18        9\n",
       "19      193\n",
       "Name: Municipio, dtype: object"
      ]
     },
     "execution_count": 139,
     "metadata": {},
     "output_type": "execute_result"
    }
   ],
   "source": [
    "dataset['Municipio'] # Select a column"
   ]
  },
  {
   "cell_type": "code",
   "execution_count": 140,
   "metadata": {},
   "outputs": [
    {
     "data": {
      "text/plain": [
       "RangeIndex(start=0, stop=20, step=1)"
      ]
     },
     "execution_count": 140,
     "metadata": {},
     "output_type": "execute_result"
    }
   ],
   "source": [
    "dataset.index"
   ]
  },
  {
   "cell_type": "code",
   "execution_count": 141,
   "metadata": {},
   "outputs": [
    {
     "data": {
      "text/plain": [
       "Index(['Insegna', 'Classificazione', 'Indirizzo', 'Municipio', 'Tipologia',\n",
       "       'Singole', 'Doppie', 'Triple', 'Quadruple', 'Quintuple', 'Sestuple',\n",
       "       'Unitaâ Abitative', 'Posti Letto Unitaâ Abitative', 'Sito Web',\n",
       "       'Email', 'Telefono', 'Fax', 'Cellulare', 'Contatto Facebook',\n",
       "       'Contatto Twitter', 'Contatto Instagram', 'Contatto Altro Social',\n",
       "       'Unnamed: 22', 'Unnamed: 23', 'Unnamed: 24'],\n",
       "      dtype='object')"
      ]
     },
     "execution_count": 141,
     "metadata": {},
     "output_type": "execute_result"
    }
   ],
   "source": [
    "dataset.columns"
   ]
  },
  {
   "cell_type": "code",
   "execution_count": 142,
   "metadata": {},
   "outputs": [
    {
     "data": {
      "text/html": [
       "<div>\n",
       "<style scoped>\n",
       "    .dataframe tbody tr th:only-of-type {\n",
       "        vertical-align: middle;\n",
       "    }\n",
       "\n",
       "    .dataframe tbody tr th {\n",
       "        vertical-align: top;\n",
       "    }\n",
       "\n",
       "    .dataframe thead th {\n",
       "        text-align: right;\n",
       "    }\n",
       "</style>\n",
       "<table border=\"1\" class=\"dataframe\">\n",
       "  <thead>\n",
       "    <tr style=\"text-align: right;\">\n",
       "      <th></th>\n",
       "      <th>Insegna</th>\n",
       "      <th>Classificazione</th>\n",
       "      <th>Indirizzo</th>\n",
       "      <th>Municipio</th>\n",
       "      <th>Tipologia</th>\n",
       "      <th>Singole</th>\n",
       "      <th>Doppie</th>\n",
       "      <th>Triple</th>\n",
       "      <th>Quadruple</th>\n",
       "      <th>Quintuple</th>\n",
       "      <th>...</th>\n",
       "      <th>Telefono</th>\n",
       "      <th>Fax</th>\n",
       "      <th>Cellulare</th>\n",
       "      <th>Contatto Facebook</th>\n",
       "      <th>Contatto Twitter</th>\n",
       "      <th>Contatto Instagram</th>\n",
       "      <th>Contatto Altro Social</th>\n",
       "      <th>Unnamed: 22</th>\n",
       "      <th>Unnamed: 23</th>\n",
       "      <th>Unnamed: 24</th>\n",
       "    </tr>\n",
       "  </thead>\n",
       "  <tbody>\n",
       "    <tr>\n",
       "      <th>19</th>\n",
       "      <td>CASA E APPARTAMENTO PER VACANZE VATICAN MUSEUM...</td>\n",
       "      <td>Categoria 2</td>\n",
       "      <td>VIALE GIULIO CESARE</td>\n",
       "      <td>193</td>\n",
       "      <td>Mun. I</td>\n",
       "      <td>Casa Vacanze NON impr (Appartamento)</td>\n",
       "      <td>2.0</td>\n",
       "      <td>1.0</td>\n",
       "      <td>NaN</td>\n",
       "      <td>1.0</td>\n",
       "      <td>...</td>\n",
       "      <td>NaN</td>\n",
       "      <td>NaN</td>\n",
       "      <td>NaN</td>\n",
       "      <td>NaN</td>\n",
       "      <td>NaN</td>\n",
       "      <td>NaN</td>\n",
       "      <td>NaN</td>\n",
       "      <td>NaN</td>\n",
       "      <td>NaN</td>\n",
       "      <td>NaN</td>\n",
       "    </tr>\n",
       "    <tr>\n",
       "      <th>17</th>\n",
       "      <td>casa e Appartamento per Vacanze TOLEMAIDE 12 H...</td>\n",
       "      <td>Categoria 2</td>\n",
       "      <td>VIA TOLEMAIDE</td>\n",
       "      <td>12</td>\n",
       "      <td>Mun. I</td>\n",
       "      <td>Casa Vacanze NON impr (Appartamento)</td>\n",
       "      <td>NaN</td>\n",
       "      <td>1.0</td>\n",
       "      <td>1.0</td>\n",
       "      <td>NaN</td>\n",
       "      <td>...</td>\n",
       "      <td>NaN</td>\n",
       "      <td>NaN</td>\n",
       "      <td>NaN</td>\n",
       "      <td>NaN</td>\n",
       "      <td>NaN</td>\n",
       "      <td>NaN</td>\n",
       "      <td>NaN</td>\n",
       "      <td>NaN</td>\n",
       "      <td>NaN</td>\n",
       "      <td>NaN</td>\n",
       "    </tr>\n",
       "    <tr>\n",
       "      <th>2</th>\n",
       "      <td>CASA E APPARTAMENTO PER VACANZE \"LA CASA DI FA...</td>\n",
       "      <td>Categoria 2</td>\n",
       "      <td>VIA AUGUSTO AUBRY</td>\n",
       "      <td>1</td>\n",
       "      <td>Mun. I</td>\n",
       "      <td>Casa Vacanze NON impr (Appartamento)</td>\n",
       "      <td>1.0</td>\n",
       "      <td>NaN</td>\n",
       "      <td>NaN</td>\n",
       "      <td>NaN</td>\n",
       "      <td>...</td>\n",
       "      <td>NaN</td>\n",
       "      <td>NaN</td>\n",
       "      <td>NaN</td>\n",
       "      <td>NaN</td>\n",
       "      <td>NaN</td>\n",
       "      <td>NaN</td>\n",
       "      <td>NaN</td>\n",
       "      <td>NaN</td>\n",
       "      <td>NaN</td>\n",
       "      <td>NaN</td>\n",
       "    </tr>\n",
       "    <tr>\n",
       "      <th>3</th>\n",
       "      <td>casa e appartamento per vacanze Valentina's house</td>\n",
       "      <td>Categoria 2</td>\n",
       "      <td>VIALE GIULIO CESARE</td>\n",
       "      <td>51/A</td>\n",
       "      <td>Mun. I</td>\n",
       "      <td>Casa Vacanze NON impr (Appartamento)</td>\n",
       "      <td>NaN</td>\n",
       "      <td>2.0</td>\n",
       "      <td>NaN</td>\n",
       "      <td>NaN</td>\n",
       "      <td>...</td>\n",
       "      <td>NaN</td>\n",
       "      <td>NaN</td>\n",
       "      <td>NaN</td>\n",
       "      <td>NaN</td>\n",
       "      <td>NaN</td>\n",
       "      <td>NaN</td>\n",
       "      <td>NaN</td>\n",
       "      <td>NaN</td>\n",
       "      <td>NaN</td>\n",
       "      <td>NaN</td>\n",
       "    </tr>\n",
       "    <tr>\n",
       "      <th>4</th>\n",
       "      <td>OLD CITY TESTACCIO CASA E APPARTAMENTO PER VAC...</td>\n",
       "      <td>Categoria 2</td>\n",
       "      <td>VIA ORAZIO ANTINORI</td>\n",
       "      <td>2</td>\n",
       "      <td>Mun. I</td>\n",
       "      <td>Casa Vacanze NON impr (Appartamento)</td>\n",
       "      <td>1.0</td>\n",
       "      <td>1.0</td>\n",
       "      <td>NaN</td>\n",
       "      <td>NaN</td>\n",
       "      <td>...</td>\n",
       "      <td>NaN</td>\n",
       "      <td>NaN</td>\n",
       "      <td>NaN</td>\n",
       "      <td>NaN</td>\n",
       "      <td>NaN</td>\n",
       "      <td>NaN</td>\n",
       "      <td>NaN</td>\n",
       "      <td>NaN</td>\n",
       "      <td>NaN</td>\n",
       "      <td>NaN</td>\n",
       "    </tr>\n",
       "    <tr>\n",
       "      <th>15</th>\n",
       "      <td>Casa e Appartamento per Vacanze VATICAN SIGHTS...</td>\n",
       "      <td>Categoria 2</td>\n",
       "      <td>PIAZZA DEI PRATI DEGLI STROZZI</td>\n",
       "      <td>26</td>\n",
       "      <td>Mun. I</td>\n",
       "      <td>Casa Vacanze NON impr (Appartamento)</td>\n",
       "      <td>NaN</td>\n",
       "      <td>2.0</td>\n",
       "      <td>NaN</td>\n",
       "      <td>NaN</td>\n",
       "      <td>...</td>\n",
       "      <td>NaN</td>\n",
       "      <td>NaN</td>\n",
       "      <td>NaN</td>\n",
       "      <td>NaN</td>\n",
       "      <td>NaN</td>\n",
       "      <td>NaN</td>\n",
       "      <td>NaN</td>\n",
       "      <td>NaN</td>\n",
       "      <td>NaN</td>\n",
       "      <td>NaN</td>\n",
       "    </tr>\n",
       "    <tr>\n",
       "      <th>12</th>\n",
       "      <td>\"EX- STUDIO ROMA\" CASA E APPARTAMENTO PER VACANZE</td>\n",
       "      <td>Categoria 1</td>\n",
       "      <td>VIA MACHIAVELLI</td>\n",
       "      <td>59</td>\n",
       "      <td>Mun. I</td>\n",
       "      <td>Casa Vacanze NON impr (Appartamento)</td>\n",
       "      <td>NaN</td>\n",
       "      <td>2.0</td>\n",
       "      <td>NaN</td>\n",
       "      <td>NaN</td>\n",
       "      <td>...</td>\n",
       "      <td>NaN</td>\n",
       "      <td>NaN</td>\n",
       "      <td>NaN</td>\n",
       "      <td>NaN</td>\n",
       "      <td>NaN</td>\n",
       "      <td>NaN</td>\n",
       "      <td>NaN</td>\n",
       "      <td>NaN</td>\n",
       "      <td>NaN</td>\n",
       "      <td>NaN</td>\n",
       "    </tr>\n",
       "    <tr>\n",
       "      <th>7</th>\n",
       "      <td>CASA E APPARTAMENTO PER VACANZE UNA NOTTE AI M...</td>\n",
       "      <td>Categoria 2</td>\n",
       "      <td>VIA SEBASTIANO VENIERO</td>\n",
       "      <td>78</td>\n",
       "      <td>Mun. I</td>\n",
       "      <td>Casa Vacanze NON impr (Appartamento)</td>\n",
       "      <td>NaN</td>\n",
       "      <td>NaN</td>\n",
       "      <td>1.0</td>\n",
       "      <td>NaN</td>\n",
       "      <td>...</td>\n",
       "      <td>NaN</td>\n",
       "      <td>NaN</td>\n",
       "      <td>NaN</td>\n",
       "      <td>NaN</td>\n",
       "      <td>NaN</td>\n",
       "      <td>NaN</td>\n",
       "      <td>NaN</td>\n",
       "      <td>NaN</td>\n",
       "      <td>NaN</td>\n",
       "      <td>NaN</td>\n",
       "    </tr>\n",
       "    <tr>\n",
       "      <th>11</th>\n",
       "      <td>CASA E APPARTAMENTO PER VACANZE AQPENTAHOUSE</td>\n",
       "      <td>Categoria 1</td>\n",
       "      <td>VIA DI S. ANNA</td>\n",
       "      <td>11</td>\n",
       "      <td>Mun. I</td>\n",
       "      <td>Casa Vacanze NON impr (Appartamento)</td>\n",
       "      <td>NaN</td>\n",
       "      <td>2.0</td>\n",
       "      <td>NaN</td>\n",
       "      <td>NaN</td>\n",
       "      <td>...</td>\n",
       "      <td>NaN</td>\n",
       "      <td>NaN</td>\n",
       "      <td>NaN</td>\n",
       "      <td>NaN</td>\n",
       "      <td>NaN</td>\n",
       "      <td>NaN</td>\n",
       "      <td>NaN</td>\n",
       "      <td>NaN</td>\n",
       "      <td>NaN</td>\n",
       "      <td>NaN</td>\n",
       "    </tr>\n",
       "    <tr>\n",
       "      <th>18</th>\n",
       "      <td>Casa e Appartamento per Vacanze ESQUILINO IX</td>\n",
       "      <td>Categoria 2</td>\n",
       "      <td>VIA BIXIO</td>\n",
       "      <td>9</td>\n",
       "      <td>Mun. I</td>\n",
       "      <td>Casa Vacanze NON impr (Appartamento)</td>\n",
       "      <td>1.0</td>\n",
       "      <td>NaN</td>\n",
       "      <td>NaN</td>\n",
       "      <td>NaN</td>\n",
       "      <td>...</td>\n",
       "      <td>NaN</td>\n",
       "      <td>NaN</td>\n",
       "      <td>NaN</td>\n",
       "      <td>NaN</td>\n",
       "      <td>NaN</td>\n",
       "      <td>NaN</td>\n",
       "      <td>NaN</td>\n",
       "      <td>NaN</td>\n",
       "      <td>NaN</td>\n",
       "      <td>NaN</td>\n",
       "    </tr>\n",
       "    <tr>\n",
       "      <th>9</th>\n",
       "      <td>LA TERRAZZA DI ISABEL</td>\n",
       "      <td>Categoria 1</td>\n",
       "      <td>VIA FLAMINIA</td>\n",
       "      <td>203</td>\n",
       "      <td>Mun. II</td>\n",
       "      <td>Casa Vacanze NON impr (Appartamento)</td>\n",
       "      <td>1.0</td>\n",
       "      <td>2.0</td>\n",
       "      <td>NaN</td>\n",
       "      <td>NaN</td>\n",
       "      <td>...</td>\n",
       "      <td>NaN</td>\n",
       "      <td>NaN</td>\n",
       "      <td>NaN</td>\n",
       "      <td>NaN</td>\n",
       "      <td>NaN</td>\n",
       "      <td>NaN</td>\n",
       "      <td>NaN</td>\n",
       "      <td>NaN</td>\n",
       "      <td>NaN</td>\n",
       "      <td>NaN</td>\n",
       "    </tr>\n",
       "    <tr>\n",
       "      <th>10</th>\n",
       "      <td>casa e appartamento per vacanza casa san lorenzo</td>\n",
       "      <td>Categoria 2</td>\n",
       "      <td>VIA DI PORTA LABICANA</td>\n",
       "      <td>56</td>\n",
       "      <td>Mun. II</td>\n",
       "      <td>Casa Vacanze NON impr (Appartamento)</td>\n",
       "      <td>NaN</td>\n",
       "      <td>1.0</td>\n",
       "      <td>NaN</td>\n",
       "      <td>NaN</td>\n",
       "      <td>...</td>\n",
       "      <td>NaN</td>\n",
       "      <td>NaN</td>\n",
       "      <td>NaN</td>\n",
       "      <td>NaN</td>\n",
       "      <td>NaN</td>\n",
       "      <td>NaN</td>\n",
       "      <td>NaN</td>\n",
       "      <td>NaN</td>\n",
       "      <td>NaN</td>\n",
       "      <td>NaN</td>\n",
       "    </tr>\n",
       "    <tr>\n",
       "      <th>5</th>\n",
       "      <td>CASA E APPARTAMENTO PER VACANZE\"IDEAL PLACE\"</td>\n",
       "      <td>Categoria 2</td>\n",
       "      <td>VIA GINO CAPPONI</td>\n",
       "      <td>13</td>\n",
       "      <td>Mun. VII</td>\n",
       "      <td>Casa Vacanze NON impr (Appartamento)</td>\n",
       "      <td>NaN</td>\n",
       "      <td>1.0</td>\n",
       "      <td>NaN</td>\n",
       "      <td>NaN</td>\n",
       "      <td>...</td>\n",
       "      <td>NaN</td>\n",
       "      <td>NaN</td>\n",
       "      <td>NaN</td>\n",
       "      <td>NaN</td>\n",
       "      <td>NaN</td>\n",
       "      <td>NaN</td>\n",
       "      <td>NaN</td>\n",
       "      <td>NaN</td>\n",
       "      <td>NaN</td>\n",
       "      <td>NaN</td>\n",
       "    </tr>\n",
       "    <tr>\n",
       "      <th>16</th>\n",
       "      <td>MY ENCHANTING ROMAN HOLIDAY CASA E APPARTAMENT...</td>\n",
       "      <td>Categoria 2</td>\n",
       "      <td>VIA DACIA</td>\n",
       "      <td>23</td>\n",
       "      <td>Mun. VII</td>\n",
       "      <td>Casa Vacanze NON impr (Appartamento)</td>\n",
       "      <td>NaN</td>\n",
       "      <td>1.0</td>\n",
       "      <td>1.0</td>\n",
       "      <td>NaN</td>\n",
       "      <td>...</td>\n",
       "      <td>NaN</td>\n",
       "      <td>NaN</td>\n",
       "      <td>NaN</td>\n",
       "      <td>NaN</td>\n",
       "      <td>NaN</td>\n",
       "      <td>NaN</td>\n",
       "      <td>NaN</td>\n",
       "      <td>NaN</td>\n",
       "      <td>NaN</td>\n",
       "      <td>NaN</td>\n",
       "    </tr>\n",
       "    <tr>\n",
       "      <th>8</th>\n",
       "      <td>TIMPERI HOUSE</td>\n",
       "      <td>Categoria 2</td>\n",
       "      <td>VIA GASPARE GOZZI</td>\n",
       "      <td>95</td>\n",
       "      <td>Mun. VIII</td>\n",
       "      <td>Casa Vacanze NON impr (Appartamento)</td>\n",
       "      <td>NaN</td>\n",
       "      <td>1.0</td>\n",
       "      <td>NaN</td>\n",
       "      <td>NaN</td>\n",
       "      <td>...</td>\n",
       "      <td>NaN</td>\n",
       "      <td>NaN</td>\n",
       "      <td>NaN</td>\n",
       "      <td>NaN</td>\n",
       "      <td>NaN</td>\n",
       "      <td>NaN</td>\n",
       "      <td>NaN</td>\n",
       "      <td>NaN</td>\n",
       "      <td>NaN</td>\n",
       "      <td>NaN</td>\n",
       "    </tr>\n",
       "    <tr>\n",
       "      <th>6</th>\n",
       "      <td>Casa e Appartamento per Vacanze E45</td>\n",
       "      <td>Categoria 1</td>\n",
       "      <td>VIA PORTUENSE</td>\n",
       "      <td>107</td>\n",
       "      <td>Mun. XII</td>\n",
       "      <td>Casa Vacanze NON impr (Appartamento)</td>\n",
       "      <td>NaN</td>\n",
       "      <td>1.0</td>\n",
       "      <td>NaN</td>\n",
       "      <td>NaN</td>\n",
       "      <td>...</td>\n",
       "      <td>NaN</td>\n",
       "      <td>NaN</td>\n",
       "      <td>NaN</td>\n",
       "      <td>NaN</td>\n",
       "      <td>NaN</td>\n",
       "      <td>NaN</td>\n",
       "      <td>NaN</td>\n",
       "      <td>NaN</td>\n",
       "      <td>NaN</td>\n",
       "      <td>NaN</td>\n",
       "    </tr>\n",
       "    <tr>\n",
       "      <th>1</th>\n",
       "      <td>Casa e Appartamento per Vacanze \"VIVES 63\"</td>\n",
       "      <td>Categoria 1</td>\n",
       "      <td>VIA DI MONTE VERDE</td>\n",
       "      <td>63</td>\n",
       "      <td>Mun. XII</td>\n",
       "      <td>Casa Vacanze NON impr (Appartamento)</td>\n",
       "      <td>NaN</td>\n",
       "      <td>1.0</td>\n",
       "      <td>NaN</td>\n",
       "      <td>NaN</td>\n",
       "      <td>...</td>\n",
       "      <td>NaN</td>\n",
       "      <td>NaN</td>\n",
       "      <td>NaN</td>\n",
       "      <td>NaN</td>\n",
       "      <td>NaN</td>\n",
       "      <td>NaN</td>\n",
       "      <td>NaN</td>\n",
       "      <td>NaN</td>\n",
       "      <td>NaN</td>\n",
       "      <td>NaN</td>\n",
       "    </tr>\n",
       "    <tr>\n",
       "      <th>0</th>\n",
       "      <td>Casa e Appartamento per Vacanze \"Trastevere_ho...</td>\n",
       "      <td>Categoria 2</td>\n",
       "      <td>VIA FEDERICO ROSAZZA</td>\n",
       "      <td>52</td>\n",
       "      <td>Mun. XII</td>\n",
       "      <td>Casa Vacanze NON impr (Appartamento)</td>\n",
       "      <td>1.0</td>\n",
       "      <td>NaN</td>\n",
       "      <td>NaN</td>\n",
       "      <td>NaN</td>\n",
       "      <td>...</td>\n",
       "      <td>NaN</td>\n",
       "      <td>NaN</td>\n",
       "      <td>NaN</td>\n",
       "      <td>NaN</td>\n",
       "      <td>NaN</td>\n",
       "      <td>NaN</td>\n",
       "      <td>NaN</td>\n",
       "      <td>NaN</td>\n",
       "      <td>NaN</td>\n",
       "      <td>NaN</td>\n",
       "    </tr>\n",
       "    <tr>\n",
       "      <th>13</th>\n",
       "      <td>casa e appartamento per vacanze House of Angelo</td>\n",
       "      <td>Categoria 1</td>\n",
       "      <td>PIAZZA DELLA STAZIONE DI S. PIETRO</td>\n",
       "      <td>13</td>\n",
       "      <td>Mun. XIII</td>\n",
       "      <td>Casa Vacanze NON impr (Appartamento)</td>\n",
       "      <td>1.0</td>\n",
       "      <td>1.0</td>\n",
       "      <td>NaN</td>\n",
       "      <td>NaN</td>\n",
       "      <td>...</td>\n",
       "      <td>NaN</td>\n",
       "      <td>NaN</td>\n",
       "      <td>NaN</td>\n",
       "      <td>NaN</td>\n",
       "      <td>NaN</td>\n",
       "      <td>NaN</td>\n",
       "      <td>NaN</td>\n",
       "      <td>NaN</td>\n",
       "      <td>NaN</td>\n",
       "      <td>NaN</td>\n",
       "    </tr>\n",
       "    <tr>\n",
       "      <th>14</th>\n",
       "      <td>casa e appartamento per vacanze St. Peter's home</td>\n",
       "      <td>Categoria 2</td>\n",
       "      <td>VIA BALDO DEGLI UBALDI</td>\n",
       "      <td>186</td>\n",
       "      <td>Mun. XIII</td>\n",
       "      <td>Casa Vacanze NON impr (Appartamento)</td>\n",
       "      <td>2.0</td>\n",
       "      <td>NaN</td>\n",
       "      <td>NaN</td>\n",
       "      <td>NaN</td>\n",
       "      <td>...</td>\n",
       "      <td>NaN</td>\n",
       "      <td>NaN</td>\n",
       "      <td>NaN</td>\n",
       "      <td>NaN</td>\n",
       "      <td>NaN</td>\n",
       "      <td>NaN</td>\n",
       "      <td>NaN</td>\n",
       "      <td>NaN</td>\n",
       "      <td>NaN</td>\n",
       "      <td>NaN</td>\n",
       "    </tr>\n",
       "  </tbody>\n",
       "</table>\n",
       "<p>20 rows × 25 columns</p>\n",
       "</div>"
      ],
      "text/plain": [
       "                                              Insegna Classificazione  \\\n",
       "19  CASA E APPARTAMENTO PER VACANZE VATICAN MUSEUM...     Categoria 2   \n",
       "17  casa e Appartamento per Vacanze TOLEMAIDE 12 H...     Categoria 2   \n",
       "2   CASA E APPARTAMENTO PER VACANZE \"LA CASA DI FA...     Categoria 2   \n",
       "3   casa e appartamento per vacanze Valentina's house     Categoria 2   \n",
       "4   OLD CITY TESTACCIO CASA E APPARTAMENTO PER VAC...     Categoria 2   \n",
       "15  Casa e Appartamento per Vacanze VATICAN SIGHTS...     Categoria 2   \n",
       "12  \"EX- STUDIO ROMA\" CASA E APPARTAMENTO PER VACANZE     Categoria 1   \n",
       "7   CASA E APPARTAMENTO PER VACANZE UNA NOTTE AI M...     Categoria 2   \n",
       "11       CASA E APPARTAMENTO PER VACANZE AQPENTAHOUSE     Categoria 1   \n",
       "18       Casa e Appartamento per Vacanze ESQUILINO IX     Categoria 2   \n",
       "9                               LA TERRAZZA DI ISABEL     Categoria 1   \n",
       "10   casa e appartamento per vacanza casa san lorenzo     Categoria 2   \n",
       "5        CASA E APPARTAMENTO PER VACANZE\"IDEAL PLACE\"     Categoria 2   \n",
       "16  MY ENCHANTING ROMAN HOLIDAY CASA E APPARTAMENT...     Categoria 2   \n",
       "8                                       TIMPERI HOUSE     Categoria 2   \n",
       "6                 Casa e Appartamento per Vacanze E45     Categoria 1   \n",
       "1          Casa e Appartamento per Vacanze \"VIVES 63\"     Categoria 1   \n",
       "0   Casa e Appartamento per Vacanze \"Trastevere_ho...     Categoria 2   \n",
       "13    casa e appartamento per vacanze House of Angelo     Categoria 1   \n",
       "14   casa e appartamento per vacanze St. Peter's home     Categoria 2   \n",
       "\n",
       "                             Indirizzo Municipio   Tipologia  \\\n",
       "19                 VIALE GIULIO CESARE       193     Mun. I    \n",
       "17                       VIA TOLEMAIDE        12     Mun. I    \n",
       "2                    VIA AUGUSTO AUBRY         1     Mun. I    \n",
       "3                  VIALE GIULIO CESARE      51/A     Mun. I    \n",
       "4                  VIA ORAZIO ANTINORI         2     Mun. I    \n",
       "15      PIAZZA DEI PRATI DEGLI STROZZI        26     Mun. I    \n",
       "12                     VIA MACHIAVELLI        59     Mun. I    \n",
       "7               VIA SEBASTIANO VENIERO        78     Mun. I    \n",
       "11                      VIA DI S. ANNA        11     Mun. I    \n",
       "18                           VIA BIXIO         9     Mun. I    \n",
       "9                         VIA FLAMINIA       203    Mun. II    \n",
       "10               VIA DI PORTA LABICANA        56    Mun. II    \n",
       "5                     VIA GINO CAPPONI        13   Mun. VII    \n",
       "16                           VIA DACIA        23   Mun. VII    \n",
       "8                    VIA GASPARE GOZZI        95  Mun. VIII    \n",
       "6                        VIA PORTUENSE       107   Mun. XII    \n",
       "1                   VIA DI MONTE VERDE        63   Mun. XII    \n",
       "0                 VIA FEDERICO ROSAZZA        52   Mun. XII    \n",
       "13  PIAZZA DELLA STAZIONE DI S. PIETRO        13  Mun. XIII    \n",
       "14              VIA BALDO DEGLI UBALDI       186  Mun. XIII    \n",
       "\n",
       "                                 Singole  Doppie  Triple  Quadruple  \\\n",
       "19  Casa Vacanze NON impr (Appartamento)     2.0     1.0        NaN   \n",
       "17  Casa Vacanze NON impr (Appartamento)     NaN     1.0        1.0   \n",
       "2   Casa Vacanze NON impr (Appartamento)     1.0     NaN        NaN   \n",
       "3   Casa Vacanze NON impr (Appartamento)     NaN     2.0        NaN   \n",
       "4   Casa Vacanze NON impr (Appartamento)     1.0     1.0        NaN   \n",
       "15  Casa Vacanze NON impr (Appartamento)     NaN     2.0        NaN   \n",
       "12  Casa Vacanze NON impr (Appartamento)     NaN     2.0        NaN   \n",
       "7   Casa Vacanze NON impr (Appartamento)     NaN     NaN        1.0   \n",
       "11  Casa Vacanze NON impr (Appartamento)     NaN     2.0        NaN   \n",
       "18  Casa Vacanze NON impr (Appartamento)     1.0     NaN        NaN   \n",
       "9   Casa Vacanze NON impr (Appartamento)     1.0     2.0        NaN   \n",
       "10  Casa Vacanze NON impr (Appartamento)     NaN     1.0        NaN   \n",
       "5   Casa Vacanze NON impr (Appartamento)     NaN     1.0        NaN   \n",
       "16  Casa Vacanze NON impr (Appartamento)     NaN     1.0        1.0   \n",
       "8   Casa Vacanze NON impr (Appartamento)     NaN     1.0        NaN   \n",
       "6   Casa Vacanze NON impr (Appartamento)     NaN     1.0        NaN   \n",
       "1   Casa Vacanze NON impr (Appartamento)     NaN     1.0        NaN   \n",
       "0   Casa Vacanze NON impr (Appartamento)     1.0     NaN        NaN   \n",
       "13  Casa Vacanze NON impr (Appartamento)     1.0     1.0        NaN   \n",
       "14  Casa Vacanze NON impr (Appartamento)     2.0     NaN        NaN   \n",
       "\n",
       "    Quintuple     ...       Telefono  Fax  Cellulare  Contatto Facebook  \\\n",
       "19        1.0     ...            NaN  NaN        NaN                NaN   \n",
       "17        NaN     ...            NaN  NaN        NaN                NaN   \n",
       "2         NaN     ...            NaN  NaN        NaN                NaN   \n",
       "3         NaN     ...            NaN  NaN        NaN                NaN   \n",
       "4         NaN     ...            NaN  NaN        NaN                NaN   \n",
       "15        NaN     ...            NaN  NaN        NaN                NaN   \n",
       "12        NaN     ...            NaN  NaN        NaN                NaN   \n",
       "7         NaN     ...            NaN  NaN        NaN                NaN   \n",
       "11        NaN     ...            NaN  NaN        NaN                NaN   \n",
       "18        NaN     ...            NaN  NaN        NaN                NaN   \n",
       "9         NaN     ...            NaN  NaN        NaN                NaN   \n",
       "10        NaN     ...            NaN  NaN        NaN                NaN   \n",
       "5         NaN     ...            NaN  NaN        NaN                NaN   \n",
       "16        NaN     ...            NaN  NaN        NaN                NaN   \n",
       "8         NaN     ...            NaN  NaN        NaN                NaN   \n",
       "6         NaN     ...            NaN  NaN        NaN                NaN   \n",
       "1         NaN     ...            NaN  NaN        NaN                NaN   \n",
       "0         NaN     ...            NaN  NaN        NaN                NaN   \n",
       "13        NaN     ...            NaN  NaN        NaN                NaN   \n",
       "14        NaN     ...            NaN  NaN        NaN                NaN   \n",
       "\n",
       "    Contatto Twitter  Contatto Instagram  Contatto Altro Social  Unnamed: 22  \\\n",
       "19               NaN                 NaN                    NaN          NaN   \n",
       "17               NaN                 NaN                    NaN          NaN   \n",
       "2                NaN                 NaN                    NaN          NaN   \n",
       "3                NaN                 NaN                    NaN          NaN   \n",
       "4                NaN                 NaN                    NaN          NaN   \n",
       "15               NaN                 NaN                    NaN          NaN   \n",
       "12               NaN                 NaN                    NaN          NaN   \n",
       "7                NaN                 NaN                    NaN          NaN   \n",
       "11               NaN                 NaN                    NaN          NaN   \n",
       "18               NaN                 NaN                    NaN          NaN   \n",
       "9                NaN                 NaN                    NaN          NaN   \n",
       "10               NaN                 NaN                    NaN          NaN   \n",
       "5                NaN                 NaN                    NaN          NaN   \n",
       "16               NaN                 NaN                    NaN          NaN   \n",
       "8                NaN                 NaN                    NaN          NaN   \n",
       "6                NaN                 NaN                    NaN          NaN   \n",
       "1                NaN                 NaN                    NaN          NaN   \n",
       "0                NaN                 NaN                    NaN          NaN   \n",
       "13               NaN                 NaN                    NaN          NaN   \n",
       "14               NaN                 NaN                    NaN          NaN   \n",
       "\n",
       "    Unnamed: 23  Unnamed: 24  \n",
       "19          NaN          NaN  \n",
       "17          NaN          NaN  \n",
       "2           NaN          NaN  \n",
       "3           NaN          NaN  \n",
       "4           NaN          NaN  \n",
       "15          NaN          NaN  \n",
       "12          NaN          NaN  \n",
       "7           NaN          NaN  \n",
       "11          NaN          NaN  \n",
       "18          NaN          NaN  \n",
       "9           NaN          NaN  \n",
       "10          NaN          NaN  \n",
       "5           NaN          NaN  \n",
       "16          NaN          NaN  \n",
       "8           NaN          NaN  \n",
       "6           NaN          NaN  \n",
       "1           NaN          NaN  \n",
       "0           NaN          NaN  \n",
       "13          NaN          NaN  \n",
       "14          NaN          NaN  \n",
       "\n",
       "[20 rows x 25 columns]"
      ]
     },
     "execution_count": 142,
     "metadata": {},
     "output_type": "execute_result"
    }
   ],
   "source": [
    "dataset.sort_values('Tipologia')"
   ]
  },
  {
   "cell_type": "code",
   "execution_count": 143,
   "metadata": {},
   "outputs": [
    {
     "data": {
      "text/plain": [
       "0     True\n",
       "1     True\n",
       "2     True\n",
       "3     True\n",
       "4     True\n",
       "5     True\n",
       "6     True\n",
       "7     True\n",
       "8     True\n",
       "9     True\n",
       "10    True\n",
       "11    True\n",
       "12    True\n",
       "13    True\n",
       "14    True\n",
       "15    True\n",
       "16    True\n",
       "17    True\n",
       "18    True\n",
       "19    True\n",
       "Name: Fax, dtype: bool"
      ]
     },
     "execution_count": 143,
     "metadata": {},
     "output_type": "execute_result"
    }
   ],
   "source": [
    "dataset['Fax'].isnull()"
   ]
  },
  {
   "cell_type": "code",
   "execution_count": 144,
   "metadata": {},
   "outputs": [
    {
     "data": {
      "text/html": [
       "<div>\n",
       "<style scoped>\n",
       "    .dataframe tbody tr th:only-of-type {\n",
       "        vertical-align: middle;\n",
       "    }\n",
       "\n",
       "    .dataframe tbody tr th {\n",
       "        vertical-align: top;\n",
       "    }\n",
       "\n",
       "    .dataframe thead th {\n",
       "        text-align: right;\n",
       "    }\n",
       "</style>\n",
       "<table border=\"1\" class=\"dataframe\">\n",
       "  <thead>\n",
       "    <tr style=\"text-align: right;\">\n",
       "      <th></th>\n",
       "      <th>Insegna</th>\n",
       "      <th>Classificazione</th>\n",
       "      <th>Indirizzo</th>\n",
       "      <th>Municipio</th>\n",
       "      <th>Tipologia</th>\n",
       "      <th>Singole</th>\n",
       "      <th>Doppie</th>\n",
       "      <th>Triple</th>\n",
       "      <th>Quadruple</th>\n",
       "      <th>Quintuple</th>\n",
       "      <th>...</th>\n",
       "      <th>Email</th>\n",
       "      <th>Telefono</th>\n",
       "      <th>Cellulare</th>\n",
       "      <th>Contatto Facebook</th>\n",
       "      <th>Contatto Twitter</th>\n",
       "      <th>Contatto Instagram</th>\n",
       "      <th>Contatto Altro Social</th>\n",
       "      <th>Unnamed: 22</th>\n",
       "      <th>Unnamed: 23</th>\n",
       "      <th>Unnamed: 24</th>\n",
       "    </tr>\n",
       "  </thead>\n",
       "  <tbody>\n",
       "    <tr>\n",
       "      <th>0</th>\n",
       "      <td>Casa e Appartamento per Vacanze \"Trastevere_ho...</td>\n",
       "      <td>Categoria 2</td>\n",
       "      <td>VIA FEDERICO ROSAZZA</td>\n",
       "      <td>52</td>\n",
       "      <td>Mun. XII</td>\n",
       "      <td>Casa Vacanze NON impr (Appartamento)</td>\n",
       "      <td>1.0</td>\n",
       "      <td>NaN</td>\n",
       "      <td>NaN</td>\n",
       "      <td>NaN</td>\n",
       "      <td>...</td>\n",
       "      <td>NaN</td>\n",
       "      <td>NaN</td>\n",
       "      <td>NaN</td>\n",
       "      <td>NaN</td>\n",
       "      <td>NaN</td>\n",
       "      <td>NaN</td>\n",
       "      <td>NaN</td>\n",
       "      <td>NaN</td>\n",
       "      <td>NaN</td>\n",
       "      <td>NaN</td>\n",
       "    </tr>\n",
       "    <tr>\n",
       "      <th>1</th>\n",
       "      <td>Casa e Appartamento per Vacanze \"VIVES 63\"</td>\n",
       "      <td>Categoria 1</td>\n",
       "      <td>VIA DI MONTE VERDE</td>\n",
       "      <td>63</td>\n",
       "      <td>Mun. XII</td>\n",
       "      <td>Casa Vacanze NON impr (Appartamento)</td>\n",
       "      <td>NaN</td>\n",
       "      <td>1.0</td>\n",
       "      <td>NaN</td>\n",
       "      <td>NaN</td>\n",
       "      <td>...</td>\n",
       "      <td>NaN</td>\n",
       "      <td>NaN</td>\n",
       "      <td>NaN</td>\n",
       "      <td>NaN</td>\n",
       "      <td>NaN</td>\n",
       "      <td>NaN</td>\n",
       "      <td>NaN</td>\n",
       "      <td>NaN</td>\n",
       "      <td>NaN</td>\n",
       "      <td>NaN</td>\n",
       "    </tr>\n",
       "    <tr>\n",
       "      <th>2</th>\n",
       "      <td>CASA E APPARTAMENTO PER VACANZE \"LA CASA DI FA...</td>\n",
       "      <td>Categoria 2</td>\n",
       "      <td>VIA AUGUSTO AUBRY</td>\n",
       "      <td>1</td>\n",
       "      <td>Mun. I</td>\n",
       "      <td>Casa Vacanze NON impr (Appartamento)</td>\n",
       "      <td>1.0</td>\n",
       "      <td>NaN</td>\n",
       "      <td>NaN</td>\n",
       "      <td>NaN</td>\n",
       "      <td>...</td>\n",
       "      <td>NaN</td>\n",
       "      <td>NaN</td>\n",
       "      <td>NaN</td>\n",
       "      <td>NaN</td>\n",
       "      <td>NaN</td>\n",
       "      <td>NaN</td>\n",
       "      <td>NaN</td>\n",
       "      <td>NaN</td>\n",
       "      <td>NaN</td>\n",
       "      <td>NaN</td>\n",
       "    </tr>\n",
       "    <tr>\n",
       "      <th>3</th>\n",
       "      <td>casa e appartamento per vacanze Valentina's house</td>\n",
       "      <td>Categoria 2</td>\n",
       "      <td>VIALE GIULIO CESARE</td>\n",
       "      <td>51/A</td>\n",
       "      <td>Mun. I</td>\n",
       "      <td>Casa Vacanze NON impr (Appartamento)</td>\n",
       "      <td>NaN</td>\n",
       "      <td>2.0</td>\n",
       "      <td>NaN</td>\n",
       "      <td>NaN</td>\n",
       "      <td>...</td>\n",
       "      <td>NaN</td>\n",
       "      <td>NaN</td>\n",
       "      <td>NaN</td>\n",
       "      <td>NaN</td>\n",
       "      <td>NaN</td>\n",
       "      <td>NaN</td>\n",
       "      <td>NaN</td>\n",
       "      <td>NaN</td>\n",
       "      <td>NaN</td>\n",
       "      <td>NaN</td>\n",
       "    </tr>\n",
       "    <tr>\n",
       "      <th>4</th>\n",
       "      <td>OLD CITY TESTACCIO CASA E APPARTAMENTO PER VAC...</td>\n",
       "      <td>Categoria 2</td>\n",
       "      <td>VIA ORAZIO ANTINORI</td>\n",
       "      <td>2</td>\n",
       "      <td>Mun. I</td>\n",
       "      <td>Casa Vacanze NON impr (Appartamento)</td>\n",
       "      <td>1.0</td>\n",
       "      <td>1.0</td>\n",
       "      <td>NaN</td>\n",
       "      <td>NaN</td>\n",
       "      <td>...</td>\n",
       "      <td>NaN</td>\n",
       "      <td>NaN</td>\n",
       "      <td>NaN</td>\n",
       "      <td>NaN</td>\n",
       "      <td>NaN</td>\n",
       "      <td>NaN</td>\n",
       "      <td>NaN</td>\n",
       "      <td>NaN</td>\n",
       "      <td>NaN</td>\n",
       "      <td>NaN</td>\n",
       "    </tr>\n",
       "    <tr>\n",
       "      <th>5</th>\n",
       "      <td>CASA E APPARTAMENTO PER VACANZE\"IDEAL PLACE\"</td>\n",
       "      <td>Categoria 2</td>\n",
       "      <td>VIA GINO CAPPONI</td>\n",
       "      <td>13</td>\n",
       "      <td>Mun. VII</td>\n",
       "      <td>Casa Vacanze NON impr (Appartamento)</td>\n",
       "      <td>NaN</td>\n",
       "      <td>1.0</td>\n",
       "      <td>NaN</td>\n",
       "      <td>NaN</td>\n",
       "      <td>...</td>\n",
       "      <td>NaN</td>\n",
       "      <td>NaN</td>\n",
       "      <td>NaN</td>\n",
       "      <td>NaN</td>\n",
       "      <td>NaN</td>\n",
       "      <td>NaN</td>\n",
       "      <td>NaN</td>\n",
       "      <td>NaN</td>\n",
       "      <td>NaN</td>\n",
       "      <td>NaN</td>\n",
       "    </tr>\n",
       "    <tr>\n",
       "      <th>6</th>\n",
       "      <td>Casa e Appartamento per Vacanze E45</td>\n",
       "      <td>Categoria 1</td>\n",
       "      <td>VIA PORTUENSE</td>\n",
       "      <td>107</td>\n",
       "      <td>Mun. XII</td>\n",
       "      <td>Casa Vacanze NON impr (Appartamento)</td>\n",
       "      <td>NaN</td>\n",
       "      <td>1.0</td>\n",
       "      <td>NaN</td>\n",
       "      <td>NaN</td>\n",
       "      <td>...</td>\n",
       "      <td>NaN</td>\n",
       "      <td>NaN</td>\n",
       "      <td>NaN</td>\n",
       "      <td>NaN</td>\n",
       "      <td>NaN</td>\n",
       "      <td>NaN</td>\n",
       "      <td>NaN</td>\n",
       "      <td>NaN</td>\n",
       "      <td>NaN</td>\n",
       "      <td>NaN</td>\n",
       "    </tr>\n",
       "    <tr>\n",
       "      <th>7</th>\n",
       "      <td>CASA E APPARTAMENTO PER VACANZE UNA NOTTE AI M...</td>\n",
       "      <td>Categoria 2</td>\n",
       "      <td>VIA SEBASTIANO VENIERO</td>\n",
       "      <td>78</td>\n",
       "      <td>Mun. I</td>\n",
       "      <td>Casa Vacanze NON impr (Appartamento)</td>\n",
       "      <td>NaN</td>\n",
       "      <td>NaN</td>\n",
       "      <td>1.0</td>\n",
       "      <td>NaN</td>\n",
       "      <td>...</td>\n",
       "      <td>NaN</td>\n",
       "      <td>NaN</td>\n",
       "      <td>NaN</td>\n",
       "      <td>NaN</td>\n",
       "      <td>NaN</td>\n",
       "      <td>NaN</td>\n",
       "      <td>NaN</td>\n",
       "      <td>NaN</td>\n",
       "      <td>NaN</td>\n",
       "      <td>NaN</td>\n",
       "    </tr>\n",
       "    <tr>\n",
       "      <th>8</th>\n",
       "      <td>TIMPERI HOUSE</td>\n",
       "      <td>Categoria 2</td>\n",
       "      <td>VIA GASPARE GOZZI</td>\n",
       "      <td>95</td>\n",
       "      <td>Mun. VIII</td>\n",
       "      <td>Casa Vacanze NON impr (Appartamento)</td>\n",
       "      <td>NaN</td>\n",
       "      <td>1.0</td>\n",
       "      <td>NaN</td>\n",
       "      <td>NaN</td>\n",
       "      <td>...</td>\n",
       "      <td>NaN</td>\n",
       "      <td>NaN</td>\n",
       "      <td>NaN</td>\n",
       "      <td>NaN</td>\n",
       "      <td>NaN</td>\n",
       "      <td>NaN</td>\n",
       "      <td>NaN</td>\n",
       "      <td>NaN</td>\n",
       "      <td>NaN</td>\n",
       "      <td>NaN</td>\n",
       "    </tr>\n",
       "    <tr>\n",
       "      <th>9</th>\n",
       "      <td>LA TERRAZZA DI ISABEL</td>\n",
       "      <td>Categoria 1</td>\n",
       "      <td>VIA FLAMINIA</td>\n",
       "      <td>203</td>\n",
       "      <td>Mun. II</td>\n",
       "      <td>Casa Vacanze NON impr (Appartamento)</td>\n",
       "      <td>1.0</td>\n",
       "      <td>2.0</td>\n",
       "      <td>NaN</td>\n",
       "      <td>NaN</td>\n",
       "      <td>...</td>\n",
       "      <td>NaN</td>\n",
       "      <td>NaN</td>\n",
       "      <td>NaN</td>\n",
       "      <td>NaN</td>\n",
       "      <td>NaN</td>\n",
       "      <td>NaN</td>\n",
       "      <td>NaN</td>\n",
       "      <td>NaN</td>\n",
       "      <td>NaN</td>\n",
       "      <td>NaN</td>\n",
       "    </tr>\n",
       "    <tr>\n",
       "      <th>10</th>\n",
       "      <td>casa e appartamento per vacanza casa san lorenzo</td>\n",
       "      <td>Categoria 2</td>\n",
       "      <td>VIA DI PORTA LABICANA</td>\n",
       "      <td>56</td>\n",
       "      <td>Mun. II</td>\n",
       "      <td>Casa Vacanze NON impr (Appartamento)</td>\n",
       "      <td>NaN</td>\n",
       "      <td>1.0</td>\n",
       "      <td>NaN</td>\n",
       "      <td>NaN</td>\n",
       "      <td>...</td>\n",
       "      <td>NaN</td>\n",
       "      <td>NaN</td>\n",
       "      <td>NaN</td>\n",
       "      <td>NaN</td>\n",
       "      <td>NaN</td>\n",
       "      <td>NaN</td>\n",
       "      <td>NaN</td>\n",
       "      <td>NaN</td>\n",
       "      <td>NaN</td>\n",
       "      <td>NaN</td>\n",
       "    </tr>\n",
       "    <tr>\n",
       "      <th>11</th>\n",
       "      <td>CASA E APPARTAMENTO PER VACANZE AQPENTAHOUSE</td>\n",
       "      <td>Categoria 1</td>\n",
       "      <td>VIA DI S. ANNA</td>\n",
       "      <td>11</td>\n",
       "      <td>Mun. I</td>\n",
       "      <td>Casa Vacanze NON impr (Appartamento)</td>\n",
       "      <td>NaN</td>\n",
       "      <td>2.0</td>\n",
       "      <td>NaN</td>\n",
       "      <td>NaN</td>\n",
       "      <td>...</td>\n",
       "      <td>NaN</td>\n",
       "      <td>NaN</td>\n",
       "      <td>NaN</td>\n",
       "      <td>NaN</td>\n",
       "      <td>NaN</td>\n",
       "      <td>NaN</td>\n",
       "      <td>NaN</td>\n",
       "      <td>NaN</td>\n",
       "      <td>NaN</td>\n",
       "      <td>NaN</td>\n",
       "    </tr>\n",
       "    <tr>\n",
       "      <th>12</th>\n",
       "      <td>\"EX- STUDIO ROMA\" CASA E APPARTAMENTO PER VACANZE</td>\n",
       "      <td>Categoria 1</td>\n",
       "      <td>VIA MACHIAVELLI</td>\n",
       "      <td>59</td>\n",
       "      <td>Mun. I</td>\n",
       "      <td>Casa Vacanze NON impr (Appartamento)</td>\n",
       "      <td>NaN</td>\n",
       "      <td>2.0</td>\n",
       "      <td>NaN</td>\n",
       "      <td>NaN</td>\n",
       "      <td>...</td>\n",
       "      <td>NaN</td>\n",
       "      <td>NaN</td>\n",
       "      <td>NaN</td>\n",
       "      <td>NaN</td>\n",
       "      <td>NaN</td>\n",
       "      <td>NaN</td>\n",
       "      <td>NaN</td>\n",
       "      <td>NaN</td>\n",
       "      <td>NaN</td>\n",
       "      <td>NaN</td>\n",
       "    </tr>\n",
       "    <tr>\n",
       "      <th>13</th>\n",
       "      <td>casa e appartamento per vacanze House of Angelo</td>\n",
       "      <td>Categoria 1</td>\n",
       "      <td>PIAZZA DELLA STAZIONE DI S. PIETRO</td>\n",
       "      <td>13</td>\n",
       "      <td>Mun. XIII</td>\n",
       "      <td>Casa Vacanze NON impr (Appartamento)</td>\n",
       "      <td>1.0</td>\n",
       "      <td>1.0</td>\n",
       "      <td>NaN</td>\n",
       "      <td>NaN</td>\n",
       "      <td>...</td>\n",
       "      <td>NaN</td>\n",
       "      <td>NaN</td>\n",
       "      <td>NaN</td>\n",
       "      <td>NaN</td>\n",
       "      <td>NaN</td>\n",
       "      <td>NaN</td>\n",
       "      <td>NaN</td>\n",
       "      <td>NaN</td>\n",
       "      <td>NaN</td>\n",
       "      <td>NaN</td>\n",
       "    </tr>\n",
       "    <tr>\n",
       "      <th>14</th>\n",
       "      <td>casa e appartamento per vacanze St. Peter's home</td>\n",
       "      <td>Categoria 2</td>\n",
       "      <td>VIA BALDO DEGLI UBALDI</td>\n",
       "      <td>186</td>\n",
       "      <td>Mun. XIII</td>\n",
       "      <td>Casa Vacanze NON impr (Appartamento)</td>\n",
       "      <td>2.0</td>\n",
       "      <td>NaN</td>\n",
       "      <td>NaN</td>\n",
       "      <td>NaN</td>\n",
       "      <td>...</td>\n",
       "      <td>NaN</td>\n",
       "      <td>NaN</td>\n",
       "      <td>NaN</td>\n",
       "      <td>NaN</td>\n",
       "      <td>NaN</td>\n",
       "      <td>NaN</td>\n",
       "      <td>NaN</td>\n",
       "      <td>NaN</td>\n",
       "      <td>NaN</td>\n",
       "      <td>NaN</td>\n",
       "    </tr>\n",
       "    <tr>\n",
       "      <th>15</th>\n",
       "      <td>Casa e Appartamento per Vacanze VATICAN SIGHTS...</td>\n",
       "      <td>Categoria 2</td>\n",
       "      <td>PIAZZA DEI PRATI DEGLI STROZZI</td>\n",
       "      <td>26</td>\n",
       "      <td>Mun. I</td>\n",
       "      <td>Casa Vacanze NON impr (Appartamento)</td>\n",
       "      <td>NaN</td>\n",
       "      <td>2.0</td>\n",
       "      <td>NaN</td>\n",
       "      <td>NaN</td>\n",
       "      <td>...</td>\n",
       "      <td>NaN</td>\n",
       "      <td>NaN</td>\n",
       "      <td>NaN</td>\n",
       "      <td>NaN</td>\n",
       "      <td>NaN</td>\n",
       "      <td>NaN</td>\n",
       "      <td>NaN</td>\n",
       "      <td>NaN</td>\n",
       "      <td>NaN</td>\n",
       "      <td>NaN</td>\n",
       "    </tr>\n",
       "    <tr>\n",
       "      <th>16</th>\n",
       "      <td>MY ENCHANTING ROMAN HOLIDAY CASA E APPARTAMENT...</td>\n",
       "      <td>Categoria 2</td>\n",
       "      <td>VIA DACIA</td>\n",
       "      <td>23</td>\n",
       "      <td>Mun. VII</td>\n",
       "      <td>Casa Vacanze NON impr (Appartamento)</td>\n",
       "      <td>NaN</td>\n",
       "      <td>1.0</td>\n",
       "      <td>1.0</td>\n",
       "      <td>NaN</td>\n",
       "      <td>...</td>\n",
       "      <td>NaN</td>\n",
       "      <td>NaN</td>\n",
       "      <td>NaN</td>\n",
       "      <td>NaN</td>\n",
       "      <td>NaN</td>\n",
       "      <td>NaN</td>\n",
       "      <td>NaN</td>\n",
       "      <td>NaN</td>\n",
       "      <td>NaN</td>\n",
       "      <td>NaN</td>\n",
       "    </tr>\n",
       "    <tr>\n",
       "      <th>17</th>\n",
       "      <td>casa e Appartamento per Vacanze TOLEMAIDE 12 H...</td>\n",
       "      <td>Categoria 2</td>\n",
       "      <td>VIA TOLEMAIDE</td>\n",
       "      <td>12</td>\n",
       "      <td>Mun. I</td>\n",
       "      <td>Casa Vacanze NON impr (Appartamento)</td>\n",
       "      <td>NaN</td>\n",
       "      <td>1.0</td>\n",
       "      <td>1.0</td>\n",
       "      <td>NaN</td>\n",
       "      <td>...</td>\n",
       "      <td>NaN</td>\n",
       "      <td>NaN</td>\n",
       "      <td>NaN</td>\n",
       "      <td>NaN</td>\n",
       "      <td>NaN</td>\n",
       "      <td>NaN</td>\n",
       "      <td>NaN</td>\n",
       "      <td>NaN</td>\n",
       "      <td>NaN</td>\n",
       "      <td>NaN</td>\n",
       "    </tr>\n",
       "    <tr>\n",
       "      <th>18</th>\n",
       "      <td>Casa e Appartamento per Vacanze ESQUILINO IX</td>\n",
       "      <td>Categoria 2</td>\n",
       "      <td>VIA BIXIO</td>\n",
       "      <td>9</td>\n",
       "      <td>Mun. I</td>\n",
       "      <td>Casa Vacanze NON impr (Appartamento)</td>\n",
       "      <td>1.0</td>\n",
       "      <td>NaN</td>\n",
       "      <td>NaN</td>\n",
       "      <td>NaN</td>\n",
       "      <td>...</td>\n",
       "      <td>NaN</td>\n",
       "      <td>NaN</td>\n",
       "      <td>NaN</td>\n",
       "      <td>NaN</td>\n",
       "      <td>NaN</td>\n",
       "      <td>NaN</td>\n",
       "      <td>NaN</td>\n",
       "      <td>NaN</td>\n",
       "      <td>NaN</td>\n",
       "      <td>NaN</td>\n",
       "    </tr>\n",
       "    <tr>\n",
       "      <th>19</th>\n",
       "      <td>CASA E APPARTAMENTO PER VACANZE VATICAN MUSEUM...</td>\n",
       "      <td>Categoria 2</td>\n",
       "      <td>VIALE GIULIO CESARE</td>\n",
       "      <td>193</td>\n",
       "      <td>Mun. I</td>\n",
       "      <td>Casa Vacanze NON impr (Appartamento)</td>\n",
       "      <td>2.0</td>\n",
       "      <td>1.0</td>\n",
       "      <td>NaN</td>\n",
       "      <td>1.0</td>\n",
       "      <td>...</td>\n",
       "      <td>NaN</td>\n",
       "      <td>NaN</td>\n",
       "      <td>NaN</td>\n",
       "      <td>NaN</td>\n",
       "      <td>NaN</td>\n",
       "      <td>NaN</td>\n",
       "      <td>NaN</td>\n",
       "      <td>NaN</td>\n",
       "      <td>NaN</td>\n",
       "      <td>NaN</td>\n",
       "    </tr>\n",
       "  </tbody>\n",
       "</table>\n",
       "<p>20 rows × 24 columns</p>\n",
       "</div>"
      ],
      "text/plain": [
       "                                              Insegna Classificazione  \\\n",
       "0   Casa e Appartamento per Vacanze \"Trastevere_ho...     Categoria 2   \n",
       "1          Casa e Appartamento per Vacanze \"VIVES 63\"     Categoria 1   \n",
       "2   CASA E APPARTAMENTO PER VACANZE \"LA CASA DI FA...     Categoria 2   \n",
       "3   casa e appartamento per vacanze Valentina's house     Categoria 2   \n",
       "4   OLD CITY TESTACCIO CASA E APPARTAMENTO PER VAC...     Categoria 2   \n",
       "5        CASA E APPARTAMENTO PER VACANZE\"IDEAL PLACE\"     Categoria 2   \n",
       "6                 Casa e Appartamento per Vacanze E45     Categoria 1   \n",
       "7   CASA E APPARTAMENTO PER VACANZE UNA NOTTE AI M...     Categoria 2   \n",
       "8                                       TIMPERI HOUSE     Categoria 2   \n",
       "9                               LA TERRAZZA DI ISABEL     Categoria 1   \n",
       "10   casa e appartamento per vacanza casa san lorenzo     Categoria 2   \n",
       "11       CASA E APPARTAMENTO PER VACANZE AQPENTAHOUSE     Categoria 1   \n",
       "12  \"EX- STUDIO ROMA\" CASA E APPARTAMENTO PER VACANZE     Categoria 1   \n",
       "13    casa e appartamento per vacanze House of Angelo     Categoria 1   \n",
       "14   casa e appartamento per vacanze St. Peter's home     Categoria 2   \n",
       "15  Casa e Appartamento per Vacanze VATICAN SIGHTS...     Categoria 2   \n",
       "16  MY ENCHANTING ROMAN HOLIDAY CASA E APPARTAMENT...     Categoria 2   \n",
       "17  casa e Appartamento per Vacanze TOLEMAIDE 12 H...     Categoria 2   \n",
       "18       Casa e Appartamento per Vacanze ESQUILINO IX     Categoria 2   \n",
       "19  CASA E APPARTAMENTO PER VACANZE VATICAN MUSEUM...     Categoria 2   \n",
       "\n",
       "                             Indirizzo Municipio   Tipologia  \\\n",
       "0                 VIA FEDERICO ROSAZZA        52   Mun. XII    \n",
       "1                   VIA DI MONTE VERDE        63   Mun. XII    \n",
       "2                    VIA AUGUSTO AUBRY         1     Mun. I    \n",
       "3                  VIALE GIULIO CESARE      51/A     Mun. I    \n",
       "4                  VIA ORAZIO ANTINORI         2     Mun. I    \n",
       "5                     VIA GINO CAPPONI        13   Mun. VII    \n",
       "6                        VIA PORTUENSE       107   Mun. XII    \n",
       "7               VIA SEBASTIANO VENIERO        78     Mun. I    \n",
       "8                    VIA GASPARE GOZZI        95  Mun. VIII    \n",
       "9                         VIA FLAMINIA       203    Mun. II    \n",
       "10               VIA DI PORTA LABICANA        56    Mun. II    \n",
       "11                      VIA DI S. ANNA        11     Mun. I    \n",
       "12                     VIA MACHIAVELLI        59     Mun. I    \n",
       "13  PIAZZA DELLA STAZIONE DI S. PIETRO        13  Mun. XIII    \n",
       "14              VIA BALDO DEGLI UBALDI       186  Mun. XIII    \n",
       "15      PIAZZA DEI PRATI DEGLI STROZZI        26     Mun. I    \n",
       "16                           VIA DACIA        23   Mun. VII    \n",
       "17                       VIA TOLEMAIDE        12     Mun. I    \n",
       "18                           VIA BIXIO         9     Mun. I    \n",
       "19                 VIALE GIULIO CESARE       193     Mun. I    \n",
       "\n",
       "                                 Singole  Doppie  Triple  Quadruple  \\\n",
       "0   Casa Vacanze NON impr (Appartamento)     1.0     NaN        NaN   \n",
       "1   Casa Vacanze NON impr (Appartamento)     NaN     1.0        NaN   \n",
       "2   Casa Vacanze NON impr (Appartamento)     1.0     NaN        NaN   \n",
       "3   Casa Vacanze NON impr (Appartamento)     NaN     2.0        NaN   \n",
       "4   Casa Vacanze NON impr (Appartamento)     1.0     1.0        NaN   \n",
       "5   Casa Vacanze NON impr (Appartamento)     NaN     1.0        NaN   \n",
       "6   Casa Vacanze NON impr (Appartamento)     NaN     1.0        NaN   \n",
       "7   Casa Vacanze NON impr (Appartamento)     NaN     NaN        1.0   \n",
       "8   Casa Vacanze NON impr (Appartamento)     NaN     1.0        NaN   \n",
       "9   Casa Vacanze NON impr (Appartamento)     1.0     2.0        NaN   \n",
       "10  Casa Vacanze NON impr (Appartamento)     NaN     1.0        NaN   \n",
       "11  Casa Vacanze NON impr (Appartamento)     NaN     2.0        NaN   \n",
       "12  Casa Vacanze NON impr (Appartamento)     NaN     2.0        NaN   \n",
       "13  Casa Vacanze NON impr (Appartamento)     1.0     1.0        NaN   \n",
       "14  Casa Vacanze NON impr (Appartamento)     2.0     NaN        NaN   \n",
       "15  Casa Vacanze NON impr (Appartamento)     NaN     2.0        NaN   \n",
       "16  Casa Vacanze NON impr (Appartamento)     NaN     1.0        1.0   \n",
       "17  Casa Vacanze NON impr (Appartamento)     NaN     1.0        1.0   \n",
       "18  Casa Vacanze NON impr (Appartamento)     1.0     NaN        NaN   \n",
       "19  Casa Vacanze NON impr (Appartamento)     2.0     1.0        NaN   \n",
       "\n",
       "    Quintuple     ...       Email  Telefono  Cellulare  Contatto Facebook  \\\n",
       "0         NaN     ...         NaN       NaN        NaN                NaN   \n",
       "1         NaN     ...         NaN       NaN        NaN                NaN   \n",
       "2         NaN     ...         NaN       NaN        NaN                NaN   \n",
       "3         NaN     ...         NaN       NaN        NaN                NaN   \n",
       "4         NaN     ...         NaN       NaN        NaN                NaN   \n",
       "5         NaN     ...         NaN       NaN        NaN                NaN   \n",
       "6         NaN     ...         NaN       NaN        NaN                NaN   \n",
       "7         NaN     ...         NaN       NaN        NaN                NaN   \n",
       "8         NaN     ...         NaN       NaN        NaN                NaN   \n",
       "9         NaN     ...         NaN       NaN        NaN                NaN   \n",
       "10        NaN     ...         NaN       NaN        NaN                NaN   \n",
       "11        NaN     ...         NaN       NaN        NaN                NaN   \n",
       "12        NaN     ...         NaN       NaN        NaN                NaN   \n",
       "13        NaN     ...         NaN       NaN        NaN                NaN   \n",
       "14        NaN     ...         NaN       NaN        NaN                NaN   \n",
       "15        NaN     ...         NaN       NaN        NaN                NaN   \n",
       "16        NaN     ...         NaN       NaN        NaN                NaN   \n",
       "17        NaN     ...         NaN       NaN        NaN                NaN   \n",
       "18        NaN     ...         NaN       NaN        NaN                NaN   \n",
       "19        1.0     ...         NaN       NaN        NaN                NaN   \n",
       "\n",
       "    Contatto Twitter  Contatto Instagram  Contatto Altro Social  Unnamed: 22  \\\n",
       "0                NaN                 NaN                    NaN          NaN   \n",
       "1                NaN                 NaN                    NaN          NaN   \n",
       "2                NaN                 NaN                    NaN          NaN   \n",
       "3                NaN                 NaN                    NaN          NaN   \n",
       "4                NaN                 NaN                    NaN          NaN   \n",
       "5                NaN                 NaN                    NaN          NaN   \n",
       "6                NaN                 NaN                    NaN          NaN   \n",
       "7                NaN                 NaN                    NaN          NaN   \n",
       "8                NaN                 NaN                    NaN          NaN   \n",
       "9                NaN                 NaN                    NaN          NaN   \n",
       "10               NaN                 NaN                    NaN          NaN   \n",
       "11               NaN                 NaN                    NaN          NaN   \n",
       "12               NaN                 NaN                    NaN          NaN   \n",
       "13               NaN                 NaN                    NaN          NaN   \n",
       "14               NaN                 NaN                    NaN          NaN   \n",
       "15               NaN                 NaN                    NaN          NaN   \n",
       "16               NaN                 NaN                    NaN          NaN   \n",
       "17               NaN                 NaN                    NaN          NaN   \n",
       "18               NaN                 NaN                    NaN          NaN   \n",
       "19               NaN                 NaN                    NaN          NaN   \n",
       "\n",
       "    Unnamed: 23  Unnamed: 24  \n",
       "0           NaN          NaN  \n",
       "1           NaN          NaN  \n",
       "2           NaN          NaN  \n",
       "3           NaN          NaN  \n",
       "4           NaN          NaN  \n",
       "5           NaN          NaN  \n",
       "6           NaN          NaN  \n",
       "7           NaN          NaN  \n",
       "8           NaN          NaN  \n",
       "9           NaN          NaN  \n",
       "10          NaN          NaN  \n",
       "11          NaN          NaN  \n",
       "12          NaN          NaN  \n",
       "13          NaN          NaN  \n",
       "14          NaN          NaN  \n",
       "15          NaN          NaN  \n",
       "16          NaN          NaN  \n",
       "17          NaN          NaN  \n",
       "18          NaN          NaN  \n",
       "19          NaN          NaN  \n",
       "\n",
       "[20 rows x 24 columns]"
      ]
     },
     "execution_count": 144,
     "metadata": {},
     "output_type": "execute_result"
    }
   ],
   "source": [
    "dataset.drop(columns=['Fax'])"
   ]
  },
  {
   "cell_type": "code",
   "execution_count": 145,
   "metadata": {},
   "outputs": [
    {
     "data": {
      "text/html": [
       "<div>\n",
       "<style scoped>\n",
       "    .dataframe tbody tr th:only-of-type {\n",
       "        vertical-align: middle;\n",
       "    }\n",
       "\n",
       "    .dataframe tbody tr th {\n",
       "        vertical-align: top;\n",
       "    }\n",
       "\n",
       "    .dataframe thead th {\n",
       "        text-align: right;\n",
       "    }\n",
       "</style>\n",
       "<table border=\"1\" class=\"dataframe\">\n",
       "  <thead>\n",
       "    <tr style=\"text-align: right;\">\n",
       "      <th></th>\n",
       "      <th>Insegna</th>\n",
       "      <th>Classificazione</th>\n",
       "      <th>Indirizzo</th>\n",
       "      <th>Municipio</th>\n",
       "      <th>Tipologia</th>\n",
       "      <th>Singole</th>\n",
       "      <th>Doppie</th>\n",
       "      <th>Triple</th>\n",
       "      <th>Quadruple</th>\n",
       "      <th>Quintuple</th>\n",
       "      <th>...</th>\n",
       "      <th>Telefono</th>\n",
       "      <th>Fax</th>\n",
       "      <th>Cellulare</th>\n",
       "      <th>Contatto Facebook</th>\n",
       "      <th>Contatto Twitter</th>\n",
       "      <th>Contatto Instagram</th>\n",
       "      <th>Contatto Altro Social</th>\n",
       "      <th>Unnamed: 22</th>\n",
       "      <th>Unnamed: 23</th>\n",
       "      <th>Unnamed: 24</th>\n",
       "    </tr>\n",
       "  </thead>\n",
       "  <tbody>\n",
       "    <tr>\n",
       "      <th>0</th>\n",
       "      <td>Casa e Appartamento per Vacanze \"Trastevere_ho...</td>\n",
       "      <td>Categoria 2</td>\n",
       "      <td>VIA FEDERICO ROSAZZA</td>\n",
       "      <td>52</td>\n",
       "      <td>Mun. XII</td>\n",
       "      <td>Casa Vacanze NON impr (Appartamento)</td>\n",
       "      <td>1.0</td>\n",
       "      <td>NaN</td>\n",
       "      <td>NaN</td>\n",
       "      <td>NaN</td>\n",
       "      <td>...</td>\n",
       "      <td>NaN</td>\n",
       "      <td>NaN</td>\n",
       "      <td>NaN</td>\n",
       "      <td>NaN</td>\n",
       "      <td>NaN</td>\n",
       "      <td>NaN</td>\n",
       "      <td>NaN</td>\n",
       "      <td>NaN</td>\n",
       "      <td>NaN</td>\n",
       "      <td>NaN</td>\n",
       "    </tr>\n",
       "    <tr>\n",
       "      <th>1</th>\n",
       "      <td>Casa e Appartamento per Vacanze \"VIVES 63\"</td>\n",
       "      <td>Categoria 1</td>\n",
       "      <td>VIA DI MONTE VERDE</td>\n",
       "      <td>63</td>\n",
       "      <td>Mun. XII</td>\n",
       "      <td>Casa Vacanze NON impr (Appartamento)</td>\n",
       "      <td>NaN</td>\n",
       "      <td>1.0</td>\n",
       "      <td>NaN</td>\n",
       "      <td>NaN</td>\n",
       "      <td>...</td>\n",
       "      <td>NaN</td>\n",
       "      <td>NaN</td>\n",
       "      <td>NaN</td>\n",
       "      <td>NaN</td>\n",
       "      <td>NaN</td>\n",
       "      <td>NaN</td>\n",
       "      <td>NaN</td>\n",
       "      <td>NaN</td>\n",
       "      <td>NaN</td>\n",
       "      <td>NaN</td>\n",
       "    </tr>\n",
       "    <tr>\n",
       "      <th>2</th>\n",
       "      <td>CASA E APPARTAMENTO PER VACANZE \"LA CASA DI FA...</td>\n",
       "      <td>Categoria 2</td>\n",
       "      <td>VIA AUGUSTO AUBRY</td>\n",
       "      <td>1</td>\n",
       "      <td>Mun. I</td>\n",
       "      <td>Casa Vacanze NON impr (Appartamento)</td>\n",
       "      <td>1.0</td>\n",
       "      <td>NaN</td>\n",
       "      <td>NaN</td>\n",
       "      <td>NaN</td>\n",
       "      <td>...</td>\n",
       "      <td>NaN</td>\n",
       "      <td>NaN</td>\n",
       "      <td>NaN</td>\n",
       "      <td>NaN</td>\n",
       "      <td>NaN</td>\n",
       "      <td>NaN</td>\n",
       "      <td>NaN</td>\n",
       "      <td>NaN</td>\n",
       "      <td>NaN</td>\n",
       "      <td>NaN</td>\n",
       "    </tr>\n",
       "    <tr>\n",
       "      <th>3</th>\n",
       "      <td>casa e appartamento per vacanze Valentina's house</td>\n",
       "      <td>Categoria 2</td>\n",
       "      <td>VIALE GIULIO CESARE</td>\n",
       "      <td>51/A</td>\n",
       "      <td>Mun. I</td>\n",
       "      <td>Casa Vacanze NON impr (Appartamento)</td>\n",
       "      <td>NaN</td>\n",
       "      <td>2.0</td>\n",
       "      <td>NaN</td>\n",
       "      <td>NaN</td>\n",
       "      <td>...</td>\n",
       "      <td>NaN</td>\n",
       "      <td>NaN</td>\n",
       "      <td>NaN</td>\n",
       "      <td>NaN</td>\n",
       "      <td>NaN</td>\n",
       "      <td>NaN</td>\n",
       "      <td>NaN</td>\n",
       "      <td>NaN</td>\n",
       "      <td>NaN</td>\n",
       "      <td>NaN</td>\n",
       "    </tr>\n",
       "    <tr>\n",
       "      <th>4</th>\n",
       "      <td>OLD CITY TESTACCIO CASA E APPARTAMENTO PER VAC...</td>\n",
       "      <td>Categoria 2</td>\n",
       "      <td>VIA ORAZIO ANTINORI</td>\n",
       "      <td>2</td>\n",
       "      <td>Mun. I</td>\n",
       "      <td>Casa Vacanze NON impr (Appartamento)</td>\n",
       "      <td>1.0</td>\n",
       "      <td>1.0</td>\n",
       "      <td>NaN</td>\n",
       "      <td>NaN</td>\n",
       "      <td>...</td>\n",
       "      <td>NaN</td>\n",
       "      <td>NaN</td>\n",
       "      <td>NaN</td>\n",
       "      <td>NaN</td>\n",
       "      <td>NaN</td>\n",
       "      <td>NaN</td>\n",
       "      <td>NaN</td>\n",
       "      <td>NaN</td>\n",
       "      <td>NaN</td>\n",
       "      <td>NaN</td>\n",
       "    </tr>\n",
       "    <tr>\n",
       "      <th>5</th>\n",
       "      <td>CASA E APPARTAMENTO PER VACANZE\"IDEAL PLACE\"</td>\n",
       "      <td>Categoria 2</td>\n",
       "      <td>VIA GINO CAPPONI</td>\n",
       "      <td>13</td>\n",
       "      <td>Mun. VII</td>\n",
       "      <td>Casa Vacanze NON impr (Appartamento)</td>\n",
       "      <td>NaN</td>\n",
       "      <td>1.0</td>\n",
       "      <td>NaN</td>\n",
       "      <td>NaN</td>\n",
       "      <td>...</td>\n",
       "      <td>NaN</td>\n",
       "      <td>NaN</td>\n",
       "      <td>NaN</td>\n",
       "      <td>NaN</td>\n",
       "      <td>NaN</td>\n",
       "      <td>NaN</td>\n",
       "      <td>NaN</td>\n",
       "      <td>NaN</td>\n",
       "      <td>NaN</td>\n",
       "      <td>NaN</td>\n",
       "    </tr>\n",
       "    <tr>\n",
       "      <th>6</th>\n",
       "      <td>Casa e Appartamento per Vacanze E45</td>\n",
       "      <td>Categoria 1</td>\n",
       "      <td>VIA PORTUENSE</td>\n",
       "      <td>107</td>\n",
       "      <td>Mun. XII</td>\n",
       "      <td>Casa Vacanze NON impr (Appartamento)</td>\n",
       "      <td>NaN</td>\n",
       "      <td>1.0</td>\n",
       "      <td>NaN</td>\n",
       "      <td>NaN</td>\n",
       "      <td>...</td>\n",
       "      <td>NaN</td>\n",
       "      <td>NaN</td>\n",
       "      <td>NaN</td>\n",
       "      <td>NaN</td>\n",
       "      <td>NaN</td>\n",
       "      <td>NaN</td>\n",
       "      <td>NaN</td>\n",
       "      <td>NaN</td>\n",
       "      <td>NaN</td>\n",
       "      <td>NaN</td>\n",
       "    </tr>\n",
       "    <tr>\n",
       "      <th>7</th>\n",
       "      <td>CASA E APPARTAMENTO PER VACANZE UNA NOTTE AI M...</td>\n",
       "      <td>Categoria 2</td>\n",
       "      <td>VIA SEBASTIANO VENIERO</td>\n",
       "      <td>78</td>\n",
       "      <td>Mun. I</td>\n",
       "      <td>Casa Vacanze NON impr (Appartamento)</td>\n",
       "      <td>NaN</td>\n",
       "      <td>NaN</td>\n",
       "      <td>1.0</td>\n",
       "      <td>NaN</td>\n",
       "      <td>...</td>\n",
       "      <td>NaN</td>\n",
       "      <td>NaN</td>\n",
       "      <td>NaN</td>\n",
       "      <td>NaN</td>\n",
       "      <td>NaN</td>\n",
       "      <td>NaN</td>\n",
       "      <td>NaN</td>\n",
       "      <td>NaN</td>\n",
       "      <td>NaN</td>\n",
       "      <td>NaN</td>\n",
       "    </tr>\n",
       "    <tr>\n",
       "      <th>8</th>\n",
       "      <td>TIMPERI HOUSE</td>\n",
       "      <td>Categoria 2</td>\n",
       "      <td>VIA GASPARE GOZZI</td>\n",
       "      <td>95</td>\n",
       "      <td>Mun. VIII</td>\n",
       "      <td>Casa Vacanze NON impr (Appartamento)</td>\n",
       "      <td>NaN</td>\n",
       "      <td>1.0</td>\n",
       "      <td>NaN</td>\n",
       "      <td>NaN</td>\n",
       "      <td>...</td>\n",
       "      <td>NaN</td>\n",
       "      <td>NaN</td>\n",
       "      <td>NaN</td>\n",
       "      <td>NaN</td>\n",
       "      <td>NaN</td>\n",
       "      <td>NaN</td>\n",
       "      <td>NaN</td>\n",
       "      <td>NaN</td>\n",
       "      <td>NaN</td>\n",
       "      <td>NaN</td>\n",
       "    </tr>\n",
       "    <tr>\n",
       "      <th>9</th>\n",
       "      <td>LA TERRAZZA DI ISABEL</td>\n",
       "      <td>Categoria 1</td>\n",
       "      <td>VIA FLAMINIA</td>\n",
       "      <td>203</td>\n",
       "      <td>Mun. II</td>\n",
       "      <td>Casa Vacanze NON impr (Appartamento)</td>\n",
       "      <td>1.0</td>\n",
       "      <td>2.0</td>\n",
       "      <td>NaN</td>\n",
       "      <td>NaN</td>\n",
       "      <td>...</td>\n",
       "      <td>NaN</td>\n",
       "      <td>NaN</td>\n",
       "      <td>NaN</td>\n",
       "      <td>NaN</td>\n",
       "      <td>NaN</td>\n",
       "      <td>NaN</td>\n",
       "      <td>NaN</td>\n",
       "      <td>NaN</td>\n",
       "      <td>NaN</td>\n",
       "      <td>NaN</td>\n",
       "    </tr>\n",
       "    <tr>\n",
       "      <th>10</th>\n",
       "      <td>casa e appartamento per vacanza casa san lorenzo</td>\n",
       "      <td>Categoria 2</td>\n",
       "      <td>VIA DI PORTA LABICANA</td>\n",
       "      <td>56</td>\n",
       "      <td>Mun. II</td>\n",
       "      <td>Casa Vacanze NON impr (Appartamento)</td>\n",
       "      <td>NaN</td>\n",
       "      <td>1.0</td>\n",
       "      <td>NaN</td>\n",
       "      <td>NaN</td>\n",
       "      <td>...</td>\n",
       "      <td>NaN</td>\n",
       "      <td>NaN</td>\n",
       "      <td>NaN</td>\n",
       "      <td>NaN</td>\n",
       "      <td>NaN</td>\n",
       "      <td>NaN</td>\n",
       "      <td>NaN</td>\n",
       "      <td>NaN</td>\n",
       "      <td>NaN</td>\n",
       "      <td>NaN</td>\n",
       "    </tr>\n",
       "    <tr>\n",
       "      <th>11</th>\n",
       "      <td>CASA E APPARTAMENTO PER VACANZE AQPENTAHOUSE</td>\n",
       "      <td>Categoria 1</td>\n",
       "      <td>VIA DI S. ANNA</td>\n",
       "      <td>11</td>\n",
       "      <td>Mun. I</td>\n",
       "      <td>Casa Vacanze NON impr (Appartamento)</td>\n",
       "      <td>NaN</td>\n",
       "      <td>2.0</td>\n",
       "      <td>NaN</td>\n",
       "      <td>NaN</td>\n",
       "      <td>...</td>\n",
       "      <td>NaN</td>\n",
       "      <td>NaN</td>\n",
       "      <td>NaN</td>\n",
       "      <td>NaN</td>\n",
       "      <td>NaN</td>\n",
       "      <td>NaN</td>\n",
       "      <td>NaN</td>\n",
       "      <td>NaN</td>\n",
       "      <td>NaN</td>\n",
       "      <td>NaN</td>\n",
       "    </tr>\n",
       "    <tr>\n",
       "      <th>12</th>\n",
       "      <td>\"EX- STUDIO ROMA\" CASA E APPARTAMENTO PER VACANZE</td>\n",
       "      <td>Categoria 1</td>\n",
       "      <td>VIA MACHIAVELLI</td>\n",
       "      <td>59</td>\n",
       "      <td>Mun. I</td>\n",
       "      <td>Casa Vacanze NON impr (Appartamento)</td>\n",
       "      <td>NaN</td>\n",
       "      <td>2.0</td>\n",
       "      <td>NaN</td>\n",
       "      <td>NaN</td>\n",
       "      <td>...</td>\n",
       "      <td>NaN</td>\n",
       "      <td>NaN</td>\n",
       "      <td>NaN</td>\n",
       "      <td>NaN</td>\n",
       "      <td>NaN</td>\n",
       "      <td>NaN</td>\n",
       "      <td>NaN</td>\n",
       "      <td>NaN</td>\n",
       "      <td>NaN</td>\n",
       "      <td>NaN</td>\n",
       "    </tr>\n",
       "    <tr>\n",
       "      <th>13</th>\n",
       "      <td>casa e appartamento per vacanze House of Angelo</td>\n",
       "      <td>Categoria 1</td>\n",
       "      <td>PIAZZA DELLA STAZIONE DI S. PIETRO</td>\n",
       "      <td>13</td>\n",
       "      <td>Mun. XIII</td>\n",
       "      <td>Casa Vacanze NON impr (Appartamento)</td>\n",
       "      <td>1.0</td>\n",
       "      <td>1.0</td>\n",
       "      <td>NaN</td>\n",
       "      <td>NaN</td>\n",
       "      <td>...</td>\n",
       "      <td>NaN</td>\n",
       "      <td>NaN</td>\n",
       "      <td>NaN</td>\n",
       "      <td>NaN</td>\n",
       "      <td>NaN</td>\n",
       "      <td>NaN</td>\n",
       "      <td>NaN</td>\n",
       "      <td>NaN</td>\n",
       "      <td>NaN</td>\n",
       "      <td>NaN</td>\n",
       "    </tr>\n",
       "    <tr>\n",
       "      <th>14</th>\n",
       "      <td>casa e appartamento per vacanze St. Peter's home</td>\n",
       "      <td>Categoria 2</td>\n",
       "      <td>VIA BALDO DEGLI UBALDI</td>\n",
       "      <td>186</td>\n",
       "      <td>Mun. XIII</td>\n",
       "      <td>Casa Vacanze NON impr (Appartamento)</td>\n",
       "      <td>2.0</td>\n",
       "      <td>NaN</td>\n",
       "      <td>NaN</td>\n",
       "      <td>NaN</td>\n",
       "      <td>...</td>\n",
       "      <td>NaN</td>\n",
       "      <td>NaN</td>\n",
       "      <td>NaN</td>\n",
       "      <td>NaN</td>\n",
       "      <td>NaN</td>\n",
       "      <td>NaN</td>\n",
       "      <td>NaN</td>\n",
       "      <td>NaN</td>\n",
       "      <td>NaN</td>\n",
       "      <td>NaN</td>\n",
       "    </tr>\n",
       "    <tr>\n",
       "      <th>15</th>\n",
       "      <td>Casa e Appartamento per Vacanze VATICAN SIGHTS...</td>\n",
       "      <td>Categoria 2</td>\n",
       "      <td>PIAZZA DEI PRATI DEGLI STROZZI</td>\n",
       "      <td>26</td>\n",
       "      <td>Mun. I</td>\n",
       "      <td>Casa Vacanze NON impr (Appartamento)</td>\n",
       "      <td>NaN</td>\n",
       "      <td>2.0</td>\n",
       "      <td>NaN</td>\n",
       "      <td>NaN</td>\n",
       "      <td>...</td>\n",
       "      <td>NaN</td>\n",
       "      <td>NaN</td>\n",
       "      <td>NaN</td>\n",
       "      <td>NaN</td>\n",
       "      <td>NaN</td>\n",
       "      <td>NaN</td>\n",
       "      <td>NaN</td>\n",
       "      <td>NaN</td>\n",
       "      <td>NaN</td>\n",
       "      <td>NaN</td>\n",
       "    </tr>\n",
       "    <tr>\n",
       "      <th>16</th>\n",
       "      <td>MY ENCHANTING ROMAN HOLIDAY CASA E APPARTAMENT...</td>\n",
       "      <td>Categoria 2</td>\n",
       "      <td>VIA DACIA</td>\n",
       "      <td>23</td>\n",
       "      <td>Mun. VII</td>\n",
       "      <td>Casa Vacanze NON impr (Appartamento)</td>\n",
       "      <td>NaN</td>\n",
       "      <td>1.0</td>\n",
       "      <td>1.0</td>\n",
       "      <td>NaN</td>\n",
       "      <td>...</td>\n",
       "      <td>NaN</td>\n",
       "      <td>NaN</td>\n",
       "      <td>NaN</td>\n",
       "      <td>NaN</td>\n",
       "      <td>NaN</td>\n",
       "      <td>NaN</td>\n",
       "      <td>NaN</td>\n",
       "      <td>NaN</td>\n",
       "      <td>NaN</td>\n",
       "      <td>NaN</td>\n",
       "    </tr>\n",
       "    <tr>\n",
       "      <th>17</th>\n",
       "      <td>casa e Appartamento per Vacanze TOLEMAIDE 12 H...</td>\n",
       "      <td>Categoria 2</td>\n",
       "      <td>VIA TOLEMAIDE</td>\n",
       "      <td>12</td>\n",
       "      <td>Mun. I</td>\n",
       "      <td>Casa Vacanze NON impr (Appartamento)</td>\n",
       "      <td>NaN</td>\n",
       "      <td>1.0</td>\n",
       "      <td>1.0</td>\n",
       "      <td>NaN</td>\n",
       "      <td>...</td>\n",
       "      <td>NaN</td>\n",
       "      <td>NaN</td>\n",
       "      <td>NaN</td>\n",
       "      <td>NaN</td>\n",
       "      <td>NaN</td>\n",
       "      <td>NaN</td>\n",
       "      <td>NaN</td>\n",
       "      <td>NaN</td>\n",
       "      <td>NaN</td>\n",
       "      <td>NaN</td>\n",
       "    </tr>\n",
       "    <tr>\n",
       "      <th>18</th>\n",
       "      <td>Casa e Appartamento per Vacanze ESQUILINO IX</td>\n",
       "      <td>Categoria 2</td>\n",
       "      <td>VIA BIXIO</td>\n",
       "      <td>9</td>\n",
       "      <td>Mun. I</td>\n",
       "      <td>Casa Vacanze NON impr (Appartamento)</td>\n",
       "      <td>1.0</td>\n",
       "      <td>NaN</td>\n",
       "      <td>NaN</td>\n",
       "      <td>NaN</td>\n",
       "      <td>...</td>\n",
       "      <td>NaN</td>\n",
       "      <td>NaN</td>\n",
       "      <td>NaN</td>\n",
       "      <td>NaN</td>\n",
       "      <td>NaN</td>\n",
       "      <td>NaN</td>\n",
       "      <td>NaN</td>\n",
       "      <td>NaN</td>\n",
       "      <td>NaN</td>\n",
       "      <td>NaN</td>\n",
       "    </tr>\n",
       "    <tr>\n",
       "      <th>19</th>\n",
       "      <td>CASA E APPARTAMENTO PER VACANZE VATICAN MUSEUM...</td>\n",
       "      <td>Categoria 2</td>\n",
       "      <td>VIALE GIULIO CESARE</td>\n",
       "      <td>193</td>\n",
       "      <td>Mun. I</td>\n",
       "      <td>Casa Vacanze NON impr (Appartamento)</td>\n",
       "      <td>2.0</td>\n",
       "      <td>1.0</td>\n",
       "      <td>NaN</td>\n",
       "      <td>1.0</td>\n",
       "      <td>...</td>\n",
       "      <td>NaN</td>\n",
       "      <td>NaN</td>\n",
       "      <td>NaN</td>\n",
       "      <td>NaN</td>\n",
       "      <td>NaN</td>\n",
       "      <td>NaN</td>\n",
       "      <td>NaN</td>\n",
       "      <td>NaN</td>\n",
       "      <td>NaN</td>\n",
       "      <td>NaN</td>\n",
       "    </tr>\n",
       "  </tbody>\n",
       "</table>\n",
       "<p>20 rows × 25 columns</p>\n",
       "</div>"
      ],
      "text/plain": [
       "                                              Insegna Classificazione  \\\n",
       "0   Casa e Appartamento per Vacanze \"Trastevere_ho...     Categoria 2   \n",
       "1          Casa e Appartamento per Vacanze \"VIVES 63\"     Categoria 1   \n",
       "2   CASA E APPARTAMENTO PER VACANZE \"LA CASA DI FA...     Categoria 2   \n",
       "3   casa e appartamento per vacanze Valentina's house     Categoria 2   \n",
       "4   OLD CITY TESTACCIO CASA E APPARTAMENTO PER VAC...     Categoria 2   \n",
       "5        CASA E APPARTAMENTO PER VACANZE\"IDEAL PLACE\"     Categoria 2   \n",
       "6                 Casa e Appartamento per Vacanze E45     Categoria 1   \n",
       "7   CASA E APPARTAMENTO PER VACANZE UNA NOTTE AI M...     Categoria 2   \n",
       "8                                       TIMPERI HOUSE     Categoria 2   \n",
       "9                               LA TERRAZZA DI ISABEL     Categoria 1   \n",
       "10   casa e appartamento per vacanza casa san lorenzo     Categoria 2   \n",
       "11       CASA E APPARTAMENTO PER VACANZE AQPENTAHOUSE     Categoria 1   \n",
       "12  \"EX- STUDIO ROMA\" CASA E APPARTAMENTO PER VACANZE     Categoria 1   \n",
       "13    casa e appartamento per vacanze House of Angelo     Categoria 1   \n",
       "14   casa e appartamento per vacanze St. Peter's home     Categoria 2   \n",
       "15  Casa e Appartamento per Vacanze VATICAN SIGHTS...     Categoria 2   \n",
       "16  MY ENCHANTING ROMAN HOLIDAY CASA E APPARTAMENT...     Categoria 2   \n",
       "17  casa e Appartamento per Vacanze TOLEMAIDE 12 H...     Categoria 2   \n",
       "18       Casa e Appartamento per Vacanze ESQUILINO IX     Categoria 2   \n",
       "19  CASA E APPARTAMENTO PER VACANZE VATICAN MUSEUM...     Categoria 2   \n",
       "\n",
       "                             Indirizzo Municipio   Tipologia  \\\n",
       "0                 VIA FEDERICO ROSAZZA        52   Mun. XII    \n",
       "1                   VIA DI MONTE VERDE        63   Mun. XII    \n",
       "2                    VIA AUGUSTO AUBRY         1     Mun. I    \n",
       "3                  VIALE GIULIO CESARE      51/A     Mun. I    \n",
       "4                  VIA ORAZIO ANTINORI         2     Mun. I    \n",
       "5                     VIA GINO CAPPONI        13   Mun. VII    \n",
       "6                        VIA PORTUENSE       107   Mun. XII    \n",
       "7               VIA SEBASTIANO VENIERO        78     Mun. I    \n",
       "8                    VIA GASPARE GOZZI        95  Mun. VIII    \n",
       "9                         VIA FLAMINIA       203    Mun. II    \n",
       "10               VIA DI PORTA LABICANA        56    Mun. II    \n",
       "11                      VIA DI S. ANNA        11     Mun. I    \n",
       "12                     VIA MACHIAVELLI        59     Mun. I    \n",
       "13  PIAZZA DELLA STAZIONE DI S. PIETRO        13  Mun. XIII    \n",
       "14              VIA BALDO DEGLI UBALDI       186  Mun. XIII    \n",
       "15      PIAZZA DEI PRATI DEGLI STROZZI        26     Mun. I    \n",
       "16                           VIA DACIA        23   Mun. VII    \n",
       "17                       VIA TOLEMAIDE        12     Mun. I    \n",
       "18                           VIA BIXIO         9     Mun. I    \n",
       "19                 VIALE GIULIO CESARE       193     Mun. I    \n",
       "\n",
       "                                 Singole  Doppie  Triple  Quadruple  \\\n",
       "0   Casa Vacanze NON impr (Appartamento)     1.0     NaN        NaN   \n",
       "1   Casa Vacanze NON impr (Appartamento)     NaN     1.0        NaN   \n",
       "2   Casa Vacanze NON impr (Appartamento)     1.0     NaN        NaN   \n",
       "3   Casa Vacanze NON impr (Appartamento)     NaN     2.0        NaN   \n",
       "4   Casa Vacanze NON impr (Appartamento)     1.0     1.0        NaN   \n",
       "5   Casa Vacanze NON impr (Appartamento)     NaN     1.0        NaN   \n",
       "6   Casa Vacanze NON impr (Appartamento)     NaN     1.0        NaN   \n",
       "7   Casa Vacanze NON impr (Appartamento)     NaN     NaN        1.0   \n",
       "8   Casa Vacanze NON impr (Appartamento)     NaN     1.0        NaN   \n",
       "9   Casa Vacanze NON impr (Appartamento)     1.0     2.0        NaN   \n",
       "10  Casa Vacanze NON impr (Appartamento)     NaN     1.0        NaN   \n",
       "11  Casa Vacanze NON impr (Appartamento)     NaN     2.0        NaN   \n",
       "12  Casa Vacanze NON impr (Appartamento)     NaN     2.0        NaN   \n",
       "13  Casa Vacanze NON impr (Appartamento)     1.0     1.0        NaN   \n",
       "14  Casa Vacanze NON impr (Appartamento)     2.0     NaN        NaN   \n",
       "15  Casa Vacanze NON impr (Appartamento)     NaN     2.0        NaN   \n",
       "16  Casa Vacanze NON impr (Appartamento)     NaN     1.0        1.0   \n",
       "17  Casa Vacanze NON impr (Appartamento)     NaN     1.0        1.0   \n",
       "18  Casa Vacanze NON impr (Appartamento)     1.0     NaN        NaN   \n",
       "19  Casa Vacanze NON impr (Appartamento)     2.0     1.0        NaN   \n",
       "\n",
       "    Quintuple     ...       Telefono  Fax  Cellulare  Contatto Facebook  \\\n",
       "0         NaN     ...            NaN  NaN        NaN                NaN   \n",
       "1         NaN     ...            NaN  NaN        NaN                NaN   \n",
       "2         NaN     ...            NaN  NaN        NaN                NaN   \n",
       "3         NaN     ...            NaN  NaN        NaN                NaN   \n",
       "4         NaN     ...            NaN  NaN        NaN                NaN   \n",
       "5         NaN     ...            NaN  NaN        NaN                NaN   \n",
       "6         NaN     ...            NaN  NaN        NaN                NaN   \n",
       "7         NaN     ...            NaN  NaN        NaN                NaN   \n",
       "8         NaN     ...            NaN  NaN        NaN                NaN   \n",
       "9         NaN     ...            NaN  NaN        NaN                NaN   \n",
       "10        NaN     ...            NaN  NaN        NaN                NaN   \n",
       "11        NaN     ...            NaN  NaN        NaN                NaN   \n",
       "12        NaN     ...            NaN  NaN        NaN                NaN   \n",
       "13        NaN     ...            NaN  NaN        NaN                NaN   \n",
       "14        NaN     ...            NaN  NaN        NaN                NaN   \n",
       "15        NaN     ...            NaN  NaN        NaN                NaN   \n",
       "16        NaN     ...            NaN  NaN        NaN                NaN   \n",
       "17        NaN     ...            NaN  NaN        NaN                NaN   \n",
       "18        NaN     ...            NaN  NaN        NaN                NaN   \n",
       "19        1.0     ...            NaN  NaN        NaN                NaN   \n",
       "\n",
       "    Contatto Twitter  Contatto Instagram  Contatto Altro Social  Unnamed: 22  \\\n",
       "0                NaN                 NaN                    NaN          NaN   \n",
       "1                NaN                 NaN                    NaN          NaN   \n",
       "2                NaN                 NaN                    NaN          NaN   \n",
       "3                NaN                 NaN                    NaN          NaN   \n",
       "4                NaN                 NaN                    NaN          NaN   \n",
       "5                NaN                 NaN                    NaN          NaN   \n",
       "6                NaN                 NaN                    NaN          NaN   \n",
       "7                NaN                 NaN                    NaN          NaN   \n",
       "8                NaN                 NaN                    NaN          NaN   \n",
       "9                NaN                 NaN                    NaN          NaN   \n",
       "10               NaN                 NaN                    NaN          NaN   \n",
       "11               NaN                 NaN                    NaN          NaN   \n",
       "12               NaN                 NaN                    NaN          NaN   \n",
       "13               NaN                 NaN                    NaN          NaN   \n",
       "14               NaN                 NaN                    NaN          NaN   \n",
       "15               NaN                 NaN                    NaN          NaN   \n",
       "16               NaN                 NaN                    NaN          NaN   \n",
       "17               NaN                 NaN                    NaN          NaN   \n",
       "18               NaN                 NaN                    NaN          NaN   \n",
       "19               NaN                 NaN                    NaN          NaN   \n",
       "\n",
       "    Unnamed: 23  Unnamed: 24  \n",
       "0           NaN          NaN  \n",
       "1           NaN          NaN  \n",
       "2           NaN          NaN  \n",
       "3           NaN          NaN  \n",
       "4           NaN          NaN  \n",
       "5           NaN          NaN  \n",
       "6           NaN          NaN  \n",
       "7           NaN          NaN  \n",
       "8           NaN          NaN  \n",
       "9           NaN          NaN  \n",
       "10          NaN          NaN  \n",
       "11          NaN          NaN  \n",
       "12          NaN          NaN  \n",
       "13          NaN          NaN  \n",
       "14          NaN          NaN  \n",
       "15          NaN          NaN  \n",
       "16          NaN          NaN  \n",
       "17          NaN          NaN  \n",
       "18          NaN          NaN  \n",
       "19          NaN          NaN  \n",
       "\n",
       "[20 rows x 25 columns]"
      ]
     },
     "execution_count": 145,
     "metadata": {},
     "output_type": "execute_result"
    }
   ],
   "source": [
    "dataset"
   ]
  },
  {
   "cell_type": "code",
   "execution_count": 146,
   "metadata": {},
   "outputs": [
    {
     "data": {
      "text/plain": [
       "0      True\n",
       "1      True\n",
       "2      True\n",
       "3      True\n",
       "4      True\n",
       "5      True\n",
       "6      True\n",
       "7     False\n",
       "8      True\n",
       "9      True\n",
       "10     True\n",
       "11     True\n",
       "12     True\n",
       "13     True\n",
       "14     True\n",
       "15     True\n",
       "16    False\n",
       "17    False\n",
       "18     True\n",
       "19     True\n",
       "Name: Quadruple, dtype: bool"
      ]
     },
     "execution_count": 146,
     "metadata": {},
     "output_type": "execute_result"
    }
   ],
   "source": [
    "dataset['Quadruple'].isnull()"
   ]
  },
  {
   "cell_type": "code",
   "execution_count": 147,
   "metadata": {},
   "outputs": [
    {
     "data": {
      "text/plain": [
       "0     0.0\n",
       "1     0.0\n",
       "2     0.0\n",
       "3     0.0\n",
       "4     0.0\n",
       "5     0.0\n",
       "6     0.0\n",
       "7     1.0\n",
       "8     0.0\n",
       "9     0.0\n",
       "10    0.0\n",
       "11    0.0\n",
       "12    0.0\n",
       "13    0.0\n",
       "14    0.0\n",
       "15    0.0\n",
       "16    1.0\n",
       "17    1.0\n",
       "18    0.0\n",
       "19    0.0\n",
       "Name: Quadruple, dtype: float64"
      ]
     },
     "execution_count": 147,
     "metadata": {},
     "output_type": "execute_result"
    }
   ],
   "source": [
    "dataset['Quadruple'].fillna(0)"
   ]
  },
  {
   "cell_type": "code",
   "execution_count": 148,
   "metadata": {},
   "outputs": [
    {
     "data": {
      "text/plain": [
       "7     1.0\n",
       "16    1.0\n",
       "17    1.0\n",
       "Name: Quadruple, dtype: float64"
      ]
     },
     "execution_count": 148,
     "metadata": {},
     "output_type": "execute_result"
    }
   ],
   "source": [
    "dataset['Quadruple'].dropna()"
   ]
  },
  {
   "cell_type": "code",
   "execution_count": 149,
   "metadata": {},
   "outputs": [
    {
     "data": {
      "text/plain": [
       "3.0"
      ]
     },
     "execution_count": 149,
     "metadata": {},
     "output_type": "execute_result"
    }
   ],
   "source": [
    "dataset['Quadruple'].sum()"
   ]
  },
  {
   "cell_type": "code",
   "execution_count": 150,
   "metadata": {},
   "outputs": [
    {
     "data": {
      "text/plain": [
       "8"
      ]
     },
     "execution_count": 150,
     "metadata": {},
     "output_type": "execute_result"
    }
   ],
   "source": [
    "dataset['Unitaâ Abitative'].max()"
   ]
  },
  {
   "cell_type": "code",
   "execution_count": 151,
   "metadata": {},
   "outputs": [
    {
     "data": {
      "text/plain": [
       "19"
      ]
     },
     "execution_count": 151,
     "metadata": {},
     "output_type": "execute_result"
    }
   ],
   "source": [
    "dataset['Unitaâ Abitative'].idxmax()"
   ]
  },
  {
   "cell_type": "code",
   "execution_count": 152,
   "metadata": {},
   "outputs": [
    {
     "data": {
      "text/plain": [
       "Insegna                           CASA E APPARTAMENTO PER VACANZE VATICAN MUSEUM...\n",
       "Classificazione                                                         Categoria 2\n",
       "Indirizzo                                                       VIALE GIULIO CESARE\n",
       "Municipio                                                                       193\n",
       "Tipologia                                                                   Mun. I \n",
       "Singole                                        Casa Vacanze NON impr (Appartamento)\n",
       "Doppie                                                                            2\n",
       "Triple                                                                            1\n",
       "Quadruple                                                                       NaN\n",
       "Quintuple                                                                         1\n",
       "Sestuple                                                                        NaN\n",
       "Unitaâ Abitative                                                                8\n",
       "Posti Letto Unitaâ Abitative                                                    0\n",
       "Sito Web                                                                          0\n",
       "Email                                                                           NaN\n",
       "Telefono                                                                        NaN\n",
       "Fax                                                                             NaN\n",
       "Cellulare                                                                       NaN\n",
       "Contatto Facebook                                                               NaN\n",
       "Contatto Twitter                                                                NaN\n",
       "Contatto Instagram                                                              NaN\n",
       "Contatto Altro Social                                                           NaN\n",
       "Unnamed: 22                                                                     NaN\n",
       "Unnamed: 23                                                                     NaN\n",
       "Unnamed: 24                                                                     NaN\n",
       "Name: 19, dtype: object"
      ]
     },
     "execution_count": 152,
     "metadata": {},
     "output_type": "execute_result"
    }
   ],
   "source": [
    "dataset.loc[19]"
   ]
  }
 ],
 "metadata": {
  "kernelspec": {
   "display_name": "Python 3",
   "language": "python",
   "name": "python3"
  },
  "language_info": {
   "codemirror_mode": {
    "name": "ipython",
    "version": 3
   },
   "file_extension": ".py",
   "mimetype": "text/x-python",
   "name": "python",
   "nbconvert_exporter": "python",
   "pygments_lexer": "ipython3",
   "version": "3.6.8"
  }
 },
 "nbformat": 4,
 "nbformat_minor": 2
}
